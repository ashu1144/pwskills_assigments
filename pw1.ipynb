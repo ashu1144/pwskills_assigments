{
 "cells": [
  {
   "cell_type": "code",
   "execution_count": 2,
   "id": "b851f273-6090-416a-aa33-0dc054e130a6",
   "metadata": {},
   "outputs": [
    {
     "name": "stdin",
     "output_type": "stream",
     "text": [
      "enter your marks 50\n"
     ]
    },
    {
     "name": "stdout",
     "output_type": "stream",
     "text": [
      "you are going to A4 batch\n"
     ]
    }
   ],
   "source": [
    "# batch marks #\n",
    "marks=int(input(\"enter your marks\"))\n",
    "if marks>=80:\n",
    "    print(\"you are going to  A1 batch\")\n",
    "elif marks>=60 and marks<80:\n",
    "    print(\"you are going to A2 batch \")\n",
    "else:\n",
    "    print(\"you are going to A4 batch\" )"
   ]
  },
  {
   "cell_type": "code",
   "execution_count": 10,
   "id": "4ff25767-25b5-46e6-a5cc-940b589974e0",
   "metadata": {},
   "outputs": [
    {
     "name": "stdout",
     "output_type": "stream",
     "text": [
      "[1, 6, 8, 6, 9]\n"
     ]
    }
   ],
   "source": [
    "#insert in loop\n",
    "l1=[1,6,8,6,9]\n",
    "l2=[]\n",
    "for i in l1:\n",
    "    (i+1)\n",
    "    l2.append(i)\n",
    "print(l2)"
   ]
  },
  {
   "cell_type": "code",
   "execution_count": 24,
   "id": "1607583e-823d-4c85-a7f1-5f72c5b02b66",
   "metadata": {},
   "outputs": [
    {
     "name": "stdout",
     "output_type": "stream",
     "text": [
      "['ABC', 'EFG', 'NUM']\n"
     ]
    }
   ],
   "source": [
    "nam=[\"abc\",\"efg\",\"num\"]\n",
    "bigletter=[]\n",
    "for i in nam:\n",
    "    bigletter.append(i.upper())\n",
    "print(bigletter)"
   ]
  },
  {
   "cell_type": "code",
   "execution_count": null,
   "id": "34b5fc3a-4483-4672-87ea-54c997b64d27",
   "metadata": {},
   "outputs": [],
   "source": []
  }
 ],
 "metadata": {
  "kernelspec": {
   "display_name": "Python 3 (ipykernel)",
   "language": "python",
   "name": "python3"
  },
  "language_info": {
   "codemirror_mode": {
    "name": "ipython",
    "version": 3
   },
   "file_extension": ".py",
   "mimetype": "text/x-python",
   "name": "python",
   "nbconvert_exporter": "python",
   "pygments_lexer": "ipython3",
   "version": "3.10.8"
  }
 },
 "nbformat": 4,
 "nbformat_minor": 5
}
