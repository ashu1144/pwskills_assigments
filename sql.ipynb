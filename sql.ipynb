{
 "cells": [
  {
   "cell_type": "code",
   "execution_count": 1,
   "id": "072a0184-ecf4-491f-a579-4b1b5be355b6",
   "metadata": {},
   "outputs": [],
   "source": [
    "# Q1\n",
    "# A database is a structured collection of data that is organized and stored in a way that allows for efficient retrieval, management, and manipulation of information.\n",
    "\n",
    "# SQL databases:\n",
    "\n",
    "# Structured Query Language (SQL) databases are relational databases.\n",
    "# They use a predefined schema to store data in tables with rows and columns.\n",
    "# Suitable for complex queries and maintaining data integrity but less flexible for unstructured data.\n",
    "\n",
    "\n",
    "\n",
    "# NoSQL databases:\n",
    "\n",
    "# NoSQL databases are non-relational databases.\n",
    "# They store data in a schema-less manner, often using JSON-like documents, key-value pairs, or graphs.\n",
    "# Suitable for handling large amounts of unstructured or semi-structured data, providing high scalability and flexibility."
   ]
  },
  {
   "cell_type": "code",
   "execution_count": 2,
   "id": "8879e27d-760f-4651-ac41-7c7772d849e5",
   "metadata": {},
   "outputs": [],
   "source": [
    "#Q2\n",
    "# DDL stands for Data Definition Language. It is a subset of SQL (Structured Query Language) used to define and manage the structure of a database.\n",
    "\n",
    "# The CREATE statement is used to create new database objects such as tables, views, indexes, and procedures\n",
    "# The DROP statement is used to delete existing database objects, such as tables, views, or indexes. \n",
    "# The ALTER statement is used to modify the structure of an existing database object\n",
    "# The TRUNCATE statement is used to remove all the data from a table but retain the table structure\n",
    "\n",
    "# create \n",
    "# CREATE TABLE employees (xyz);\n",
    "\n",
    "# drop \n",
    "# DROP TABLE employees;\n",
    "\n",
    "# alter\n",
    "# ALTER TABLE employees\n",
    "# ADD COLUMN name varchar;\n",
    "\n",
    "# truncate\n",
    "# TRUNCATE TABLE employees;"
   ]
  },
  {
   "cell_type": "code",
   "execution_count": 3,
   "id": "dc288070-7bb6-4236-b3fb-7bd3da7fa009",
   "metadata": {},
   "outputs": [
    {
     "ename": "SyntaxError",
     "evalue": "invalid syntax (3519407784.py, line 4)",
     "output_type": "error",
     "traceback": [
      "\u001b[0;36m  Cell \u001b[0;32mIn[3], line 4\u001b[0;36m\u001b[0m\n\u001b[0;31m    INSERT:\u001b[0m\n\u001b[0m           ^\u001b[0m\n\u001b[0;31mSyntaxError\u001b[0m\u001b[0;31m:\u001b[0m invalid syntax\n"
     ]
    }
   ],
   "source": [
    "# Q3\n",
    "# DML stands for Data Manipulation Language. It is a subset of SQL (Structured Query Language) used to interact with the data stored in a database.DML commands are used to insert, update, and delete data within the database tables\n",
    "\n",
    "\n",
    "INSERT:\n",
    "# The INSERT statement is used to add new rows (records) into a table. It allows you to specify the values to be inserted into each column or select them from another table.\n",
    "\n",
    "# INSERT INTO employees (id, name, work, payment, hiredate)\n",
    "# VALUES (1, 'John Doe', 'HR', 50000.00, '2023-07-26');\n",
    "\n",
    "update\n",
    "# the UPDATE statement is used to modify existing records in a table. It allows you to change the values of one or more columns based on specified conditions\n",
    "\n",
    "# UPDATE employees\n",
    "# SET salary = salary * 3.3\n",
    "# WHERE id = 1;\n",
    "\n",
    "delete\n",
    "\n",
    "# The DELETE statement is used to remove one or more rows from a table based on specified conditions. It does not delete the table structure; it only removes data from it. \n",
    "\n",
    "# DELETE FROM employees\n",
    "# WHERE id = 1;\n"
   ]
  },
  {
   "cell_type": "code",
   "execution_count": null,
   "id": "91e8c36e-3366-4449-91ea-56ecb4c7e061",
   "metadata": {},
   "outputs": [],
   "source": [
    "# Q4\n",
    "# DQL stands for Data Query Language. It is a subset of SQL (Structured Query Language) used to retrieve data from a database. DQL commands are primarily concerned with querying and fetching data from one or more database tables\n",
    "\n",
    "\n",
    "\n",
    "\n",
    "# The SELECT statement is used to retrieve data from a database table. It allows you to specify the columns you want to retrieve and apply various conditions and filters to fetch the desired data.\n",
    "# SELECT id, name, department, salary\n",
    "# FROM employees\n",
    "# # WHERE department = 'HR';\n",
    "\n"
   ]
  },
  {
   "cell_type": "code",
   "execution_count": null,
   "id": "8a470a27-8190-4354-8743-a934260872a2",
   "metadata": {},
   "outputs": [],
   "source": [
    "# Q5\n",
    "# Primary Key:\n",
    "# # A primary key is a special column or set of columns in a database table that uniquely identifies each record (row) in that table. It ensures that there are no duplicate or null values in the designated column(s).\n",
    "\n",
    "\n",
    "# Foreign Key:\n",
    "# A foreign key is a column or set of columns in a database table that establishes a link or reference to the primary key of another table. It creates a relationship between two tables and ensures referential integrity. "
   ]
  },
  {
   "cell_type": "code",
   "execution_count": null,
   "id": "4c0b4bd2-4885-4746-bf18-5daacca87308",
   "metadata": {},
   "outputs": [],
   "source": [
    "# Q6\n",
    "# import mysql.connector\n",
    "# mydb = mysql.connector.connect(\n",
    "#   host=\"localhost\",\n",
    "#   user=\"abc\",\n",
    "#   password=\"password\"\n",
    "# )"
   ]
  },
  {
   "cell_type": "code",
   "execution_count": null,
   "id": "6502f6a0-abfd-4e1a-a971-5832939c6562",
   "metadata": {},
   "outputs": [],
   "source": [
    "# The execute() method is called on the cursor object and is used to execute SQL queries on the database\n",
    "# The cursor() method is used to create a cursor object, which enables interaction with the database. its likea pointer"
   ]
  },
  {
   "cell_type": "code",
   "execution_count": null,
   "id": "44fa7aba-09da-4d7e-9283-a47a5a33faeb",
   "metadata": {},
   "outputs": [],
   "source": [
    "# The order of execution of SQL clauses in an SQL query is as follows:\n",
    "\n",
    "#1 FROM: Specifies the table or tables from which the data will be retrieved.\n",
    "#2 WHERE: Applies conditions to filter the data based on specific criteria.\n",
    "#3 GROUP BY: Groups the data based on one or more columns.\n",
    "#4 HAVING: Filters the grouped data based on specified conditions.\n",
    "#5 SELECT: Selects the columns and data to be returned in the result set.\n",
    "#6 ORDER BY: Sorts the result set based on one or more columns.\n",
    "#7 # LIMIT / OFFSET: Restricts the number of rows returned or skips a certain number of rows (used for pagination)."
   ]
  },
  {
   "cell_type": "code",
   "execution_count": null,
   "id": "66b8b559-4ec7-4a18-b74c-02dead5feaed",
   "metadata": {},
   "outputs": [],
   "source": []
  }
 ],
 "metadata": {
  "kernelspec": {
   "display_name": "Python 3 (ipykernel)",
   "language": "python",
   "name": "python3"
  },
  "language_info": {
   "codemirror_mode": {
    "name": "ipython",
    "version": 3
   },
   "file_extension": ".py",
   "mimetype": "text/x-python",
   "name": "python",
   "nbconvert_exporter": "python",
   "pygments_lexer": "ipython3",
   "version": "3.10.8"
  }
 },
 "nbformat": 4,
 "nbformat_minor": 5
}
