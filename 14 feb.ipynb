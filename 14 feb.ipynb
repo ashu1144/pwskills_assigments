{
 "cells": [
  {
   "cell_type": "code",
   "execution_count": 1,
   "id": "193e0767-6ae2-4289-a7fd-0869b6c95893",
   "metadata": {},
   "outputs": [],
   "source": [
    "# Q1\n",
    "# A process of running multiple threads simultaneously within a single process is called multithreading\n",
    "# its use  To improve the performance of a program by using multiple CPUs or CPU cores.\n",
    "# threading\n"
   ]
  },
  {
   "cell_type": "code",
   "execution_count": 54,
   "id": "7cd53d43-a6d0-481e-9d4a-2322a8b878f9",
   "metadata": {},
   "outputs": [],
   "source": [
    "#Q2\n",
    "#the threading module in Python is used to create and manage threads, which are small units of execution that can run concurrently within a program.\n",
    "#The activeCount() method is then used to get the count of active threads\n",
    "#the currentThread() method of thread class is used to return a reference to the currently executing thread object.\n",
    "#the enumerate() function allows you to iterate through an iterable while knowing the index of each item without needing to manage the index separately.\n",
    "\n"
   ]
  },
  {
   "cell_type": "code",
   "execution_count": 5,
   "id": "a94f233b-756e-49c7-8b14-86238ff3b737",
   "metadata": {},
   "outputs": [],
   "source": [
    "#Q3\n",
    "# run() This function is used to define the entry point for the thread's activity. When a thread is started using the start() method, it will automatically call the run() method to execute the desired tasks concurrently.\n",
    "#start()  This function is used to start the execution of a thread. Once a thread is started, its run() method will be executed in parallel with other threads in the program, allowing for concurrent processing.\n",
    "#join() This function is used to wait for a thread to complete its execution before continuing with the main thread. It blocks the execution of the main thread until the target thread finishes its work.\n",
    "#isAlive() This function is used to check whether a thread is currently active (running) or not. It returns True if the thread is still running, and False otherwise. "
   ]
  },
  {
   "cell_type": "code",
   "execution_count": 72,
   "id": "168d0f3b-0e45-462f-becb-20cd28566221",
   "metadata": {},
   "outputs": [
    {
     "name": "stdout",
     "output_type": "stream",
     "text": [
      "the list of square [1, 4, 9, 16, 25, 36, 49, 64, 81, 100, 121, 144, 169, 196, 225, 256, 289, 324, 361]\n",
      "the list of cubes [1, 8, 27, 64, 125, 216, 343, 512, 729, 1000, 1331, 1728, 2197, 2744, 3375, 4096, 4913, 5832, 6859]\n"
     ]
    }
   ],
   "source": [
    "# Q4 \n",
    "import threading\n",
    "import time \n",
    "def list_square():\n",
    "    square=[num**2 for num in range(1,20)]\n",
    "    print(\"the list of square\",square)\n",
    "    time.sleep(2)\n",
    "def list_cube():\n",
    "    list_of_cubes=[num**3 for num in range(1,20)]\n",
    "    print(\"the list of cubes\",list_of_cubes)\n",
    "    time.sleep(2)\n",
    "    \n",
    "thread1 = threading.Thread(target=list_square)\n",
    "thread2 = threading.Thread(target=list_cube)\n",
    "\n",
    "thread1.start()\n",
    "thread2.start()\n",
    "thread1.join()\n",
    "thread2.join()\n",
    "\n",
    "\n"
   ]
  },
  {
   "cell_type": "code",
   "execution_count": 59,
   "id": "8c520dd0-19ec-493b-92bb-fb180c58761d",
   "metadata": {},
   "outputs": [],
   "source": [
    "#Q5\n",
    "# advantages of multithreading: Improved performance through concurrent execution, efficient resource utilization, responsiveness in GUI applications.\n",
    "# Disadvantages: Complexity in synchronization, potential for race conditions and deadlocks, difficult-to-debug issues, increased memory usage due to thread overhead."
   ]
  },
  {
   "cell_type": "code",
   "execution_count": 60,
   "id": "3df8e8ab-42c1-452d-af1f-67b545785b2f",
   "metadata": {},
   "outputs": [],
   "source": [
    "# Q6\n",
    "# Deadlock -  A deadlock occurs when two or more threads are unable to proceed with their execution because they are each waiting for a resource that is held by another thread.\n",
    "# Race condition -When multiple threads access shared resources simultaneously and perform operations without proper synchronization, the final outcome becomes unpredictable and inconsistent, causing unexpected bugs and errors in the program."
   ]
  },
  {
   "cell_type": "code",
   "execution_count": null,
   "id": "377233eb-09b7-4e7c-a965-2590bade641b",
   "metadata": {},
   "outputs": [],
   "source": []
  }
 ],
 "metadata": {
  "kernelspec": {
   "display_name": "Python 3 (ipykernel)",
   "language": "python",
   "name": "python3"
  },
  "language_info": {
   "codemirror_mode": {
    "name": "ipython",
    "version": 3
   },
   "file_extension": ".py",
   "mimetype": "text/x-python",
   "name": "python",
   "nbconvert_exporter": "python",
   "pygments_lexer": "ipython3",
   "version": "3.10.8"
  }
 },
 "nbformat": 4,
 "nbformat_minor": 5
}
