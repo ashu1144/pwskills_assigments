{
 "cells": [
  {
   "cell_type": "code",
   "execution_count": 1,
   "id": "d6130630-c1af-49b5-aa43-8d7eb6c04bac",
   "metadata": {},
   "outputs": [],
   "source": [
    "# Q1\n",
    "list1 = [1,2,3,4, [44,55,66, True], False, (34,56,78,89,34), {1,2,3,3,2,1}, {1:34, \"key2\": [55, 67, 78, 89], 4: (45,\n",
    "22, 61, 34)}, [56, 'data science'], 'Macihine Learning']"
   ]
  },
  {
   "cell_type": "code",
   "execution_count": 10,
   "id": "91a0a9db-ef61-47b1-b770-6f095c9dcd08",
   "metadata": {},
   "outputs": [],
   "source": [
    "\n",
    "def pro1(x):\n",
    "    pro=1\n",
    "    pro1=1\n",
    "    flat_list=[]\n",
    "    for i in list1:\n",
    "        if type(i)==int:\n",
    "            flat_list.append(i)\n",
    "           \n",
    "            \n",
    "        elif  type(i)==list:\n",
    "            for j in i:\n",
    "                if type(j)==int:\n",
    "                    flat_list.append(j)\n",
    "                \n",
    "    \n",
    "        elif type(i)==tuple:\n",
    "            for t in i:\n",
    "                flat_list.append(t)\n",
    "            \n",
    "        \n",
    "        elif type(i)==set:\n",
    "            for j in i :\n",
    "                flat_list.append(j)\n",
    "              \n",
    "    \n",
    "        if type(i)== dict:\n",
    "            for d in i.keys():\n",
    "                if type(d)==int:\n",
    "                    flat_list.append(d)\n",
    "                    \n",
    "                \n",
    "            for d in i.values():\n",
    "                if type(d)==int:\n",
    "                    flat_list.append(d)\n",
    "                   \n",
    "                \n",
    "                elif type(d)==list:\n",
    "                    for i in d :\n",
    "                        flat_list.append(i)\n",
    "                       \n",
    "                if  type(d)==tuple:\n",
    "                    for i in d :\n",
    "                        flat_list.append(i)\n",
    "                                  \n",
    "    print(flat_list) \n",
    "    for i in flat_list:\n",
    "        pro1 = i * pro1\n",
    "    print(\"the final product is \",pro1)\n",
    "    "
   ]
  },
  {
   "cell_type": "code",
   "execution_count": 11,
   "id": "75ad4c93-f751-433e-a001-7bcd764e82f6",
   "metadata": {},
   "outputs": [
    {
     "name": "stdout",
     "output_type": "stream",
     "text": [
      "[1, 2, 3, 4, 44, 55, 66, 34, 56, 78, 89, 34, 1, 2, 3, 1, 4, 34, 55, 67, 78, 89, 45, 22, 61, 34, 56]\n",
      "the final product is  4134711838987085478833841242112000\n"
     ]
    }
   ],
   "source": [
    "pro1(list)"
   ]
  },
  {
   "cell_type": "code",
   "execution_count": 22,
   "id": "2c15a4cf-3c48-45a7-ba92-d605abe84c49",
   "metadata": {},
   "outputs": [
    {
     "name": "stdin",
     "output_type": "stream",
     "text": [
      "enter your msg recived I want to become a Data Scientist.\n"
     ]
    },
    {
     "name": "stdout",
     "output_type": "stream",
     "text": [
      "i$wznt$to$yexome$z$dztz$sxientist.\n"
     ]
    }
   ],
   "source": [
    "#Q2\n",
    "msg=input(\"enter your msg recived\")\n",
    "encripted_msg=\"\"\n",
    "for i in msg:\n",
    "    if i == \"b\" or i == \"B\":\n",
    "        encripted_msg= encripted_msg + i.replace(i,\"y\")\n",
    "    elif i == \"a\" or i == \"A\":\n",
    "        encripted_msg = encripted_msg + i.replace(i,\"z\")\n",
    "    elif i==\"c\" or i==\"C\":\n",
    "        encripted_msg= encripted_msg + i.replace(i,\"x\") \n",
    "    elif i == \" \":\n",
    "        encripted_msg= encripted_msg + i.replace(i,\"$\") \n",
    "    else:\n",
    "        encripted_msg = encripted_msg + i\n",
    "print(encripted_msg.lower())\n",
    "            \n",
    "    "
   ]
  },
  {
   "cell_type": "code",
   "execution_count": null,
   "id": "b63c8f17-b18b-4501-9353-2bf8ce7aaab8",
   "metadata": {},
   "outputs": [],
   "source": []
  },
  {
   "cell_type": "code",
   "execution_count": null,
   "id": "a452e61b-913a-4bdb-a745-c55ec89cfdb4",
   "metadata": {},
   "outputs": [],
   "source": []
  },
  {
   "cell_type": "code",
   "execution_count": null,
   "id": "d7636dc8-bb93-43fa-ae25-6513ff2782a9",
   "metadata": {},
   "outputs": [],
   "source": []
  }
 ],
 "metadata": {
  "kernelspec": {
   "display_name": "Python 3 (ipykernel)",
   "language": "python",
   "name": "python3"
  },
  "language_info": {
   "codemirror_mode": {
    "name": "ipython",
    "version": 3
   },
   "file_extension": ".py",
   "mimetype": "text/x-python",
   "name": "python",
   "nbconvert_exporter": "python",
   "pygments_lexer": "ipython3",
   "version": "3.10.8"
  }
 },
 "nbformat": 4,
 "nbformat_minor": 5
}
