{
 "cells": [
  {
   "cell_type": "code",
   "execution_count": 2,
   "id": "8234daf2-ed93-4794-b7b6-02aba495badc",
   "metadata": {},
   "outputs": [],
   "source": [
    "import pandas as pd"
   ]
  },
  {
   "cell_type": "code",
   "execution_count": 8,
   "id": "98193dce-e8b9-4795-8eb3-7a93e08587b0",
   "metadata": {},
   "outputs": [
    {
     "name": "stdout",
     "output_type": "stream",
     "text": [
      "0     4\n",
      "1     8\n",
      "2    15\n",
      "3    16\n",
      "4    23\n",
      "5    42\n",
      "dtype: int64\n"
     ]
    }
   ],
   "source": [
    "#1 Create a Pandas Series that contains the following data: 4, 8, 15, 16, 23, and 42. Then, print the series.\n",
    "data = [4, 8, 15, 16, 23, 42]\n",
    "\n",
    "series = pd.Series(data)\n",
    "\n",
    "print(series)"
   ]
  },
  {
   "cell_type": "code",
   "execution_count": 10,
   "id": "92bf2485-94f3-44e2-b6b3-7b00ec86c2ef",
   "metadata": {},
   "outputs": [
    {
     "name": "stdout",
     "output_type": "stream",
     "text": [
      "0     2\n",
      "1     4\n",
      "2     6\n",
      "3     8\n",
      "4    10\n",
      "5    12\n",
      "6    14\n",
      "7    16\n",
      "8    18\n",
      "9    20\n",
      "dtype: int64\n"
     ]
    }
   ],
   "source": [
    "# Q2. Create a variable of list type containing 10 elements in it, and apply pandas.Series function on the  variable print it.\n",
    "my_list = [2, 4, 6, 8, 10, 12, 14, 16, 18, 20]\n",
    "series = pd.Series(my_list)\n",
    "\n",
    "print(series)"
   ]
  },
  {
   "cell_type": "code",
   "execution_count": 15,
   "id": "3fb68775-08e3-4ba7-9c30-18a4c7194425",
   "metadata": {},
   "outputs": [
    {
     "name": "stdout",
     "output_type": "stream",
     "text": [
      "     name  age  gender\n",
      "0   Alice   25  Female\n",
      "1     Bob   30    Male\n",
      "2  Claire   27  Female\n"
     ]
    }
   ],
   "source": [
    "# Q3 Create a Pandas DataFrame that contains the following data:\n",
    "data1={\"name\" : ['Alice' , 'Bob' , 'Claire'],\n",
    "      \"age\":[25,30,27],\n",
    "      \"gender\":['Female','Male',\"Female\"]}\n",
    "\n",
    "df = pd.DataFrame(data1)\n",
    "print(df)"
   ]
  },
  {
   "cell_type": "code",
   "execution_count": 24,
   "id": "2e10ce25-33ab-4930-9b2b-81771df551fe",
   "metadata": {},
   "outputs": [
    {
     "name": "stdout",
     "output_type": "stream",
     "text": [
      "      name  age\n",
      "0    Alice   25\n",
      "1      Bob   32\n",
      "2  Charlie   28\n",
      "3    David   22\n"
     ]
    }
   ],
   "source": [
    "# Q4. What is ‘DataFrame’ in pandas and how is it different from pandas.series? Explain with an example.\n",
    "\n",
    "# a DataFrame is a two-dimensional labeled data structure that can store data in tabular form, similar to a spreadsheet or a SQL table. It consists of rows and columns, where each column can contain data of a different type (e.g., integers, floats, strings, etc.). \n",
    "\n",
    "# DataFrames are a fundamental structure in pandas and are commonly used for data manipulation, analysis, and cleaning. On the other hand, a Series is a one-dimensional labeled array-like object in pandas. It can be thought of as a single column of data with an associated label (index).\n",
    "\n",
    "# datframes\n",
    "data = {\n",
    "    'name': ['Alice', 'Bob', 'Charlie', 'David'],\n",
    "    'age': [25, 32, 28, 22]\n",
    "}\n",
    "\n",
    "df = pd.DataFrame(data)\n",
    "print(df ) \n",
    "\n",
    "\n",
    "\n",
    "\n"
   ]
  },
  {
   "cell_type": "code",
   "execution_count": 28,
   "id": "af2d537e-2211-4642-a90b-f8283122238b",
   "metadata": {},
   "outputs": [
    {
     "name": "stdout",
     "output_type": "stream",
     "text": [
      "Names Series:\n",
      "0      Alice\n",
      "1        Bob\n",
      "2    Charlie\n",
      "3      David\n",
      "dtype: object\n",
      "\n",
      "Ages Series:\n",
      "0    25\n",
      "1    32\n",
      "2    28\n",
      "3    22\n",
      "dtype: int64\n"
     ]
    }
   ],
   "source": [
    "\n",
    "# series\n",
    "\n",
    "names = pd.Series(['Alice', 'Bob', 'Charlie', 'David'])\n",
    "ages = pd.Series([25, 32, 28, 22])\n",
    "\n",
    "print(\"Names Series:\")\n",
    "print(names)\n",
    "print(\"\\nAges Series:\")\n",
    "print(ages)\n"
   ]
  },
  {
   "cell_type": "code",
   "execution_count": null,
   "id": "644720fe-6e01-416a-a844-50887911b29a",
   "metadata": {},
   "outputs": [],
   "source": [
    "#5 What are some common functions you can use to manipulate data in a Pandas DataFrame? Can you give an example of when you might use one of these functions?\n",
    "\n",
    "# Filtering Rows:\n",
    "df[df['column'] > value]: Filter rows based on a condition.\n",
    "# Sorting:\n",
    "df.sort_values(by='column'): Sort the DataFrame based on values in a specific column.\n",
    "df.sort_index(): Sort the DataFrame based on the index.\n",
    "# Filtering and Selection:\n",
    "df[columns]: Select specific columns from the DataFrame.\n",
    "df.loc[row_indexer, column_indexer]: Select rows and columns by label.\n",
    "df.iloc[row_indexer, column_indexer]: Select rows and columns by integer index.\n",
    "# Adding and Removing Columns:\n",
    "df['new_column'] = values Add a new column to the DataFrame.\n",
    "df.drop(columns=['column']): Remove a column from the DataFrame."
   ]
  },
  {
   "cell_type": "code",
   "execution_count": null,
   "id": "388b4cf7-648c-433f-ae66-ed4cec1a5941",
   "metadata": {},
   "outputs": [],
   "source": [
    "#6 Which of the following is mutable in nature Series, DataFrame, Panel?\n",
    "\n",
    "both Series and DataFrame are mutable in nature in the context of pandas."
   ]
  },
  {
   "cell_type": "code",
   "execution_count": 29,
   "id": "dc480184-84b6-4ba5-87ea-4fc2d85449f8",
   "metadata": {},
   "outputs": [
    {
     "name": "stdout",
     "output_type": "stream",
     "text": [
      "       Name  Age  Grade\n",
      "0     Akash   25     85\n",
      "1     rahul   32     92\n",
      "2  abhishek   28     78\n",
      "3     rohit   22     88\n"
     ]
    }
   ],
   "source": [
    "#7Create a DataFrame using multiple Series. Explain with an example.\n",
    "\n",
    "# Creating separate Series for each attribute\n",
    "names = pd.Series(['Akash', 'rahul', 'abhishek', 'rohit'])\n",
    "ages = pd.Series([25, 32, 28, 22])\n",
    "grades = pd.Series([85, 92, 78, 88])\n",
    "\n",
    "# Creating a DataFrame using the Series\n",
    "data = {\n",
    "    'Name': names,\n",
    "    'Age': ages,\n",
    "    'Grade': grades\n",
    "}\n",
    "\n",
    "df = pd.DataFrame(data)\n",
    "# dataframe i\n",
    "\n",
    "print(df)\n"
   ]
  },
  {
   "cell_type": "code",
   "execution_count": null,
   "id": "ac275c34-7bac-4a57-a1b1-3059a6d74cab",
   "metadata": {},
   "outputs": [],
   "source": []
  },
  {
   "cell_type": "code",
   "execution_count": null,
   "id": "9c12f9f6-4513-47d6-9696-f9cde3be1eee",
   "metadata": {},
   "outputs": [],
   "source": []
  },
  {
   "cell_type": "code",
   "execution_count": null,
   "id": "976625e4-1337-40da-a019-439e57a0f284",
   "metadata": {},
   "outputs": [],
   "source": []
  }
 ],
 "metadata": {
  "kernelspec": {
   "display_name": "Python 3 (ipykernel)",
   "language": "python",
   "name": "python3"
  },
  "language_info": {
   "codemirror_mode": {
    "name": "ipython",
    "version": 3
   },
   "file_extension": ".py",
   "mimetype": "text/x-python",
   "name": "python",
   "nbconvert_exporter": "python",
   "pygments_lexer": "ipython3",
   "version": "3.10.8"
  }
 },
 "nbformat": 4,
 "nbformat_minor": 5
}
