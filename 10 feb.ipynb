{
 "cells": [
  {
   "cell_type": "code",
   "execution_count": 63,
   "id": "f790f095-8581-49e8-a921-c41cc514bb32",
   "metadata": {},
   "outputs": [],
   "source": [
    "# Q1. open() function\n",
    "\n",
    "# file1 = open(\"test.txt\")\n",
    "# file1 = open(\"test.txt\",'r\")\n",
    "# file1 = open(\"test.txt\",'w') \n",
    "# file1 = open(\"img.bmp\",'rb')\n",
    "\n",
    "# file1 = open(\"test.txt\")\n",
    "# file1 = open(\"test.txt\",'r\") #open and read \n",
    "# file1 = open(\"test.txt\",'w') #write in text mode\n",
    "# file1 = open(\"img.bmp\",'rb') # read  in binary mode"
   ]
  },
  {
   "cell_type": "code",
   "execution_count": 2,
   "id": "b88f964b-8cf9-436f-ab46-b723198e7f69",
   "metadata": {},
   "outputs": [],
   "source": [
    "#02 close() - You should always close your files, in some cases, due to buffering, changes made to a file may not show until you close the file."
   ]
  },
  {
   "cell_type": "code",
   "execution_count": 19,
   "id": "46af4200-81d6-4bbf-8ab8-fbab2b92fd1f",
   "metadata": {},
   "outputs": [
    {
     "data": {
      "text/plain": [
       "'‘I want to become a Data Scientist’'"
      ]
     },
     "execution_count": 19,
     "metadata": {},
     "output_type": "execute_result"
    }
   ],
   "source": [
    "#Q3\n",
    "f = open(\"file.txt\",\"w\")\n",
    "f.write(\"‘I want to become a Data Scientist’\")\n",
    "f.close()\n",
    "f = open(\"file.txt\",\"r\")\n",
    "f.read()"
   ]
  },
  {
   "cell_type": "code",
   "execution_count": null,
   "id": "4e6a8200-28e1-4861-b505-5c9be9c4a7d8",
   "metadata": {},
   "outputs": [],
   "source": [
    "# Q3\n",
    "# read() - if no number is specified it will read entire file \n",
    "# Readlines( )- is a function that is used in Python to read a particular file line by line in a single go\n",
    "# readlines()- is function reads all the line in the form of list"
   ]
  },
  {
   "cell_type": "code",
   "execution_count": null,
   "id": "e62f3a9b-c0d5-45f4-8aef-1231c3dadd88",
   "metadata": {},
   "outputs": [],
   "source": [
    "# Q4\n",
    "# The with statement works with the open() function to open a file\n",
    "# advantage- it help us read and write to the file without being worried about closing it."
   ]
  },
  {
   "cell_type": "code",
   "execution_count": null,
   "id": "5a404636-e3cd-4004-95b3-8377332712e4",
   "metadata": {},
   "outputs": [],
   "source": [
    "#Q5\n",
    "# write() method takes a string as an argument and writes it to the text file.\n",
    "# writelines() method is used to write multiple strings to a file. We need to pass an iterable object like lists, tuples, etc."
   ]
  },
  {
   "cell_type": "code",
   "execution_count": 58,
   "id": "141c754b-0d35-4d1e-a16a-f3d725aa3d0f",
   "metadata": {},
   "outputs": [
    {
     "name": "stdout",
     "output_type": "stream",
     "text": [
      "Data is written into the file.\n"
     ]
    }
   ],
   "source": [
    "file = open(\"Employees.txt\", \"w\")\n",
    "sample=file.write(\"ashan\")\n",
    "print(\"Data is written into the file.\")"
   ]
  },
  {
   "cell_type": "code",
   "execution_count": 61,
   "id": "ed2a360b-7b43-41ed-98e1-23e328ba355d",
   "metadata": {},
   "outputs": [
    {
     "name": "stdin",
     "output_type": "stream",
     "text": [
      "Enter the name of the employee:  aaaaaaaaaaaaaa\n"
     ]
    },
    {
     "name": "stdout",
     "output_type": "stream",
     "text": [
      "Data is written into the file.\n"
     ]
    }
   ],
   "source": [
    "file1 = open(\"Employees.txt\", \"w\")\n",
    "lst = []\n",
    "name = input(\"Enter the name of the employee: \")\n",
    "lst.append(name + '\\n')\n",
    "file1.writelines(lst)\n",
    "file1.close()\n",
    "print(\"Data is written into the file.\")"
   ]
  },
  {
   "cell_type": "code",
   "execution_count": 62,
   "id": "715601c2-284d-4f6f-9833-b6748a48914d",
   "metadata": {},
   "outputs": [
    {
     "name": "stdout",
     "output_type": "stream",
     "text": [
      "<class 'list'>\n"
     ]
    }
   ],
   "source": [
    "print(type(lst))"
   ]
  },
  {
   "cell_type": "code",
   "execution_count": null,
   "id": "76bd26e5-a2bd-4444-99f7-6d3f0e7af671",
   "metadata": {},
   "outputs": [],
   "source": []
  }
 ],
 "metadata": {
  "kernelspec": {
   "display_name": "Python 3 (ipykernel)",
   "language": "python",
   "name": "python3"
  },
  "language_info": {
   "codemirror_mode": {
    "name": "ipython",
    "version": 3
   },
   "file_extension": ".py",
   "mimetype": "text/x-python",
   "name": "python",
   "nbconvert_exporter": "python",
   "pygments_lexer": "ipython3",
   "version": "3.10.8"
  }
 },
 "nbformat": 4,
 "nbformat_minor": 5
}
