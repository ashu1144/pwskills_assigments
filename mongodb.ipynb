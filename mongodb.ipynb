{
 "cells": [
  {
   "cell_type": "code",
   "execution_count": 1,
   "id": "ac152a0f-e6d5-4188-a7be-8279bddeb362",
   "metadata": {},
   "outputs": [],
   "source": [
    "# mongodb database that stores and manages data in JSON-like documents. It provides a flexible schema, high scalability, and is well-suited for handling large volumes of complex data.\n",
    "\n",
    "# Q1\n",
    "# Non-relational databases, also known as NoSQL databases, are a category of databases that depart from the traditional tabular, structured model of relational databases. Instead of using fixed schemas and tables, non-relational databases offer flexible data models to store and manage data in various formats.\n",
    "\n",
    "# Use MongoDB over SQL databases in the following scenarios:\n",
    "# Dynamic Schema: When dealing with rapidly changing or unstructured data that doesn't fit well into a fixed schema.\n",
    "# Scalability: For applications requiring horizontal scaling to handle large data volumes and high throughput.\n",
    "# Complex Data: When managing complex hierarchical or nested data structures more efficiently.\n",
    "# Agile Development: In iterative development environments where schema changes are frequent.\n",
    "# Real-time Analytics: For applications needing real-time data processing and analytics.\n",
    "# # Geospatial Data: When dealing with location-based data and geospatial queries."
   ]
  },
  {
   "cell_type": "code",
   "execution_count": 2,
   "id": "cff65e85-4d60-4761-b100-c6d1c94256eb",
   "metadata": {},
   "outputs": [],
   "source": [
    "# Q2\n",
    "# State and Explain the features of MongoDB.\n",
    "\n",
    "# Document-Oriented: MongoDB is a document-oriented database, where data is stored in BSON (Binary JSON) format. Each record is a document, which can have a flexible schema, allowing different documents in the same collection to have different fields and structures.\n",
    "\n",
    "# Dynamic Schema: Unlike traditional SQL databases, MongoDB does not require a fixed schema for data. This dynamic schema makes it easy to handle evolving data structures without downtime or migrations.\n",
    "\n",
    "# Scalability: MongoDB is designed to scale horizontally across multiple servers or nodes, making it suitable for large-scale applications and distributed systems. It can easily handle growing amounts of data and traffic.\n",
    "\n",
    "# High Performance: With its efficient indexing and query optimization capabilities, MongoDB can deliver high read and write performance. It can handle large volumes of simultaneous queries and data operations."
   ]
  },
  {
   "cell_type": "code",
   "execution_count": null,
   "id": "80c9a0ec-a606-422e-a100-f15f8d7d16f7",
   "metadata": {},
   "outputs": [],
   "source": [
    "# Q3\n",
    "# pip install pymongo\n",
    "# import pymongo\n",
    "# mongo_connection_string = \"mongodb://<username>:<password>@<host>:<port>/<database_name>?retryWrites=true&w=majority\"\n",
    "db=client['company']\n",
    "data = {\"name\": \"John Doe\", \"age\": 30, \"email\": \"johndoe@example.com\"}\n",
    "coll_company=db(\"employee\")\n",
    "coll_comapny.insert_one(data)\n",
    "\n"
   ]
  },
  {
   "cell_type": "code",
   "execution_count": null,
   "id": "e34b3692-0ce8-45c2-86cb-02dd1d3fa96d",
   "metadata": {},
   "outputs": [],
   "source": [
    "# Q4\n",
    "import pymongo\n",
    "mongo_connection_string = \"mongodb://<username>:<password>@<host>:<port>/?retryWrites=true&w=majority\"\n",
    "db_name = \"your_database\"\n",
    "db = client[db_name]\n",
    "collection_name = \"your_collection\"\n",
    "collection = db[collection_name]\n",
    "\n",
    "# Insert one record\n",
    "data_to_insert_one = {\"name\": \"rohan\", \"age\": 25, \"email\": \"rohan@example.com\"}\n",
    "inserted_data_one = collection.insert_one(data_to_insert_one)\n",
    "print(\"One record inserted successfully with id:\", inserted_data_one.inserted_id)\n",
    "\n",
    "# Insert many records\n",
    "data_to_insert_many = [\n",
    "    {\"name\": \"vishal\", \"age\": 28, \"email\": \"visha;@example.com\"},\n",
    "    {\"name\": \"Bikash\", \"age\": 32, \"email\": \"bikash@example.com\"},\n",
    "    {\"name\": \"aman\", \"age\": 21, \"email\": \"aman@example.com\"}\n",
    "]\n",
    "inserted_data_many = collection.insert_many(data_to_insert_many)\n",
    "print(\"Many records inserted successfully with ids:\", inserted_data_many.inserted_ids)\n",
    "\n",
    "# Print the inserted records using find() method\n",
    "print(\"All records in the collection:\")\n",
    "all_records = collection.find()\n",
    "for record in all_records:\n",
    "    print(record)\n",
    "\n",
    "# Print one inserted record using find_one() method\n",
    "print(\"\\nOne inserted record:\")\n",
    "one_record = collection.find_one({\"name\": \"Jane Smith\"})\n",
    "print(one_record)\n"
   ]
  },
  {
   "cell_type": "code",
   "execution_count": null,
   "id": "a3eeb2ee-c8c1-4931-83be-f3372be022fc",
   "metadata": {},
   "outputs": [],
   "source": [
    "# Q5\n",
    "# the find() method is used to query the database and retrieve documents that match a specific query criteria.\n",
    "import pymongo\n",
    "mongo_connection_string = \"mongodb://<username>:<password>@<host>:<port>/?retryWrites=true&w=majority\"\n",
    "db_name = \"your_database\"\n",
    "db = client[db_name]\n",
    "collection_name = \"your_collection\"\n",
    "collection = db[collection_name]\n",
    "query = {\"age\": {\"$gte\": 30}}\n",
    "cursor = collection.find(query)\n",
    "print(\"Documents with age >= 30:\")\n",
    "for document in cursor:\n",
    "    print(document)\n"
   ]
  },
  {
   "cell_type": "code",
   "execution_count": 4,
   "id": "b2a08372-df45-44e6-b48e-33fe1d998bdd",
   "metadata": {},
   "outputs": [
    {
     "ename": "NameError",
     "evalue": "name 'client' is not defined",
     "output_type": "error",
     "traceback": [
      "\u001b[0;31m---------------------------------------------------------------------------\u001b[0m",
      "\u001b[0;31mNameError\u001b[0m                                 Traceback (most recent call last)",
      "Cell \u001b[0;32mIn[4], line 6\u001b[0m\n\u001b[1;32m      3\u001b[0m mongo_connection_string \u001b[38;5;241m=\u001b[39m \u001b[38;5;124m\"\u001b[39m\u001b[38;5;124mmongodb://<username>:<password>@<host>:<port>/?retryWrites=true&w=majority\u001b[39m\u001b[38;5;124m\"\u001b[39m\n\u001b[1;32m      5\u001b[0m db_name \u001b[38;5;241m=\u001b[39m \u001b[38;5;124m\"\u001b[39m\u001b[38;5;124myour_database\u001b[39m\u001b[38;5;124m\"\u001b[39m\n\u001b[0;32m----> 6\u001b[0m db \u001b[38;5;241m=\u001b[39m \u001b[43mclient\u001b[49m[db_name]\n\u001b[1;32m      7\u001b[0m collection_name \u001b[38;5;241m=\u001b[39m \u001b[38;5;124m\"\u001b[39m\u001b[38;5;124myour_collection\u001b[39m\u001b[38;5;124m\"\u001b[39m\n\u001b[1;32m      8\u001b[0m collection \u001b[38;5;241m=\u001b[39m db[collection_name]\n",
      "\u001b[0;31mNameError\u001b[0m: name 'client' is not defined"
     ]
    }
   ],
   "source": [
    "#06\n",
    "# the sort() method is used to sort the results of a query in a specified order based on one or more fields in the documents. It allows you to control the order in which the documents are returned by the query.\n",
    "import pymongo\n",
    "mongo_connection_string = \"mongodb://<username>:<password>@<host>:<port>/?retryWrites=true&w=majority\"\n",
    "\n",
    "db_name = \"your_database\"\n",
    "db = client[db_name]\n",
    "collection_name = \"your_collection\"\n",
    "collection = db[collection_name]\n",
    "sort_criteria = {\"age\": -1}\n",
    "sorted_documents = collection.find().sort(sort_criteria)\n",
    "print(\"Documents sorted by age in descending order:\")\n",
    "for document in sorted_documents:\n",
    "    print(document)\n"
   ]
  },
  {
   "cell_type": "code",
   "execution_count": null,
   "id": "7392e640-e25a-4b47-a73b-33fefa7b6865",
   "metadata": {},
   "outputs": [],
   "source": [
    "# Q7\n",
    "\n",
    "# # delete_one(): This method is used to delete a single document that matches a specified filter/query from the collection. It is typically used when you want to remove a specific document from the collection based on certain criteria.\n",
    "\n",
    "# delete_many(): This method is used to delete multiple documents that match a specified filter/query from the collection. It allows you to remove multiple documents in one operation, which is useful when you want to delete documents in bulk based on certain conditions.\n",
    "\n",
    "# drop(): The drop() method is used to completely remove the entire collection from the database. This operation is irreversible and permanently deletes all documents and indexes associated with the collection. It should be used with caution, as it can lead to data loss.\n",
    "\n",
    "# Here's a brief explanation of when and why you would use each method:\n",
    "\n",
    "# delete_one(): Use this when you want to delete a single specific document. For example, you might use it to remove a user record by specifying their unique ID.\n",
    "\n",
    "# delete_many(): Use this when you want to delete multiple documents that meet certain criteria. For example, you might use it to delete all records older than a certain date or belonging to a specific category.\n",
    "\n",
    "# drop(): Use this when you want to completely remove the entire collection, often as part of database cleanup or when the collection is no longer needed. Be cautious when using this method, as it permanently deletes all data in the collection.\n",
    "\n",
    "\n",
    "\n",
    "\n"
   ]
  }
 ],
 "metadata": {
  "kernelspec": {
   "display_name": "Python 3 (ipykernel)",
   "language": "python",
   "name": "python3"
  },
  "language_info": {
   "codemirror_mode": {
    "name": "ipython",
    "version": 3
   },
   "file_extension": ".py",
   "mimetype": "text/x-python",
   "name": "python",
   "nbconvert_exporter": "python",
   "pygments_lexer": "ipython3",
   "version": "3.10.8"
  }
 },
 "nbformat": 4,
 "nbformat_minor": 5
}
