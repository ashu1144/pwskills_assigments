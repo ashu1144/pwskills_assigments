{
 "cells": [
  {
   "cell_type": "code",
   "execution_count": 3,
   "id": "91b89159-3017-4b56-82f9-6f8bf38bbc88",
   "metadata": {},
   "outputs": [],
   "source": [
    "#Q1\n",
    "# An abstract method is a method that is declared, but contains no implementation. Abstract classes cannot be instantiated, and require subclasses to provide implementations for the abstract methods."
   ]
  },
  {
   "cell_type": "code",
   "execution_count": 5,
   "id": "d5cbb6eb-5473-49d6-8788-66659fd0c2b5",
   "metadata": {},
   "outputs": [],
   "source": [
    "# example -  Baking a cake. If you are following a recipe to bake a cake, you are using abstraction"
   ]
  },
  {
   "cell_type": "code",
   "execution_count": 8,
   "id": "ff373d7c-8332-480b-9160-a1021ad1d859",
   "metadata": {},
   "outputs": [],
   "source": [
    "#Q2\n",
    "# Abstraction is a design level process and it is used to reduce the complexity at the designing stage of a project.\n",
    "# Encapsulation is an implementation level process, and it is used to provide privacy and maintain control over the transparency of data at the implementation stage of a project"
   ]
  },
  {
   "cell_type": "code",
   "execution_count": 11,
   "id": "57e48915-0743-41be-b0b7-9cfbcdc9d7aa",
   "metadata": {},
   "outputs": [],
   "source": [
    "# Q3\n",
    "# Python on its own doesn't provide abstract classes. This module provides the infrastructure for defining abstract base classes (ABCs) in Python/ Abstract Base Classes (ABCs)\n",
    "# es are a powerful feature in Python since they help you define a blueprint for other classes that may have something in common."
   ]
  },
  {
   "cell_type": "code",
   "execution_count": 14,
   "id": "985bc426-8d46-4016-9b43-b0280fb5a5a0",
   "metadata": {},
   "outputs": [],
   "source": [
    "#Q4\n",
    "# abstraction can be achieved by having/using abstract classes and methods in our programs"
   ]
  },
  {
   "cell_type": "code",
   "execution_count": 16,
   "id": "09f13fc5-0b1e-4afe-a729-e20672889517",
   "metadata": {},
   "outputs": [],
   "source": [
    "#Q5\n",
    "# An abstract class cannot be instantiated.\n",
    "# Abstract classes are not complete, as they may have some methods that are not defined. So we cannot create an instance or object of an abstract class in Python."
   ]
  },
  {
   "cell_type": "code",
   "execution_count": null,
   "id": "26db8682-80b4-4ebb-9100-535a8eec1450",
   "metadata": {},
   "outputs": [],
   "source": []
  }
 ],
 "metadata": {
  "kernelspec": {
   "display_name": "Python 3 (ipykernel)",
   "language": "python",
   "name": "python3"
  },
  "language_info": {
   "codemirror_mode": {
    "name": "ipython",
    "version": 3
   },
   "file_extension": ".py",
   "mimetype": "text/x-python",
   "name": "python",
   "nbconvert_exporter": "python",
   "pygments_lexer": "ipython3",
   "version": "3.10.8"
  }
 },
 "nbformat": 4,
 "nbformat_minor": 5
}
