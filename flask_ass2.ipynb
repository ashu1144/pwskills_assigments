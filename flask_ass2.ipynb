{
 "cells": [
  {
   "cell_type": "code",
   "execution_count": 2,
   "id": "3937894a-3347-4f7f-b2ca-7490768eae11",
   "metadata": {},
   "outputs": [],
   "source": [
    "# # Q1\n",
    "# GET - Data in the GET request is appended to the URL as query parameters, which are visible in the address bar of the browser.\n",
    "# POST - Data in the POST request is sent in the request body, which is not visible in the URL or address bar of the browser."
   ]
  },
  {
   "cell_type": "code",
   "execution_count": 3,
   "id": "be304bba-f9f1-4acd-b693-c751ee6e4fa7",
   "metadata": {},
   "outputs": [],
   "source": [
    "# Q2\n",
    "# In Flask, the request object is used to access data that is sent from the client (e.g., web browser, mobile app) to the server. It allows Flask applications to retrieve information such as form data, query parameters, JSON payloads, cookies, and more, enabling the server to process and respond to client requests effectively"
   ]
  },
  {
   "cell_type": "code",
   "execution_count": null,
   "id": "a5c64b45-3c2d-4f13-aaea-0e11e792b749",
   "metadata": {},
   "outputs": [],
   "source": [
    " #Q3\n",
    "# the redirect() function is used to redirect users from one route to another. It allows developers to send a response to the client with an instruction to visit a different URL."
   ]
  },
  {
   "cell_type": "code",
   "execution_count": 4,
   "id": "7c63e781-c257-4d5a-8f2c-7d6fd1375590",
   "metadata": {},
   "outputs": [],
   "source": [
    "# # Q4\n",
    "# the templates are files that contain the structure and layout of web pages.\n",
    "# The render_template() function in Flask is used to render templates and generate HTML responses dynamically. \n"
   ]
  },
  {
   "cell_type": "code",
   "execution_count": null,
   "id": "ce3b04c6-04ee-4d4d-89fb-5dc895dc2cef",
   "metadata": {},
   "outputs": [],
   "source": [
    "# Q5\n",
    "from flask import Flask , render_template ,request,jsonify\n",
    "\n",
    "app = Flask(__name__)\n",
    "\n",
    "\n",
    "@app.route('/postman_data',methods = ['POST'])\n",
    "def math_operation1():\n",
    "    if(request.method == 'POST'):\n",
    "        first_name = str(request.json['first_name'])\n",
    "        last_name = str(request.json['last_name'])\n",
    "        r = first_name+ \" \" +last_name\n",
    "        result = 'YOUR FIRST NAME ' + first_name + ' and LAST NAME IS ' + last_name + ' = ' + r\n",
    "        \n",
    "    return jsonify(result)\n",
    "\n",
    "\n",
    "if __name__==\"__main__\":\n",
    "    app.run(host=\"0.0.0.0\")\n",
    "\n",
    "# screenshot is attached on my github"
   ]
  },
  {
   "cell_type": "code",
   "execution_count": null,
   "id": "63318473-c78a-46ab-a0f4-f113c1f924ea",
   "metadata": {},
   "outputs": [],
   "source": []
  }
 ],
 "metadata": {
  "kernelspec": {
   "display_name": "Python 3 (ipykernel)",
   "language": "python",
   "name": "python3"
  },
  "language_info": {
   "codemirror_mode": {
    "name": "ipython",
    "version": 3
   },
   "file_extension": ".py",
   "mimetype": "text/x-python",
   "name": "python",
   "nbconvert_exporter": "python",
   "pygments_lexer": "ipython3",
   "version": "3.10.8"
  }
 },
 "nbformat": 4,
 "nbformat_minor": 5
}
