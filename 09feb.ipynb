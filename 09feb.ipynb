{
 "cells": [
  {
   "cell_type": "code",
   "execution_count": 1,
   "id": "124f3df4-a0cd-4021-ba2b-0ec4e69ff807",
   "metadata": {},
   "outputs": [],
   "source": [
    "# Q1\n",
    "class vehicle:\n",
    "    def __init__(self,name_of_vehicle,max_speed,average_of_vehicle):\n",
    "        self.name_of_vehicle=name_of_vehicle\n",
    "        self.max_speed=max_speed\n",
    "        self.average_of_vehicle=average_of_vehicle\n",
    "    "
   ]
  },
  {
   "cell_type": "code",
   "execution_count": 2,
   "id": "268b977d-bb96-4c17-a0f3-3f12d107650e",
   "metadata": {},
   "outputs": [],
   "source": [
    "suv=vehicle(\"fortuner\",110,12)"
   ]
  },
  {
   "cell_type": "code",
   "execution_count": 3,
   "id": "dfd228c2-38eb-4fd8-bfa1-3ca343c59bd4",
   "metadata": {},
   "outputs": [
    {
     "data": {
      "text/plain": [
       "'fortuner'"
      ]
     },
     "execution_count": 3,
     "metadata": {},
     "output_type": "execute_result"
    }
   ],
   "source": [
    "suv.name_of_vehicle"
   ]
  },
  {
   "cell_type": "code",
   "execution_count": 4,
   "id": "22625817-0686-454e-959d-ce9d5f9668aa",
   "metadata": {},
   "outputs": [
    {
     "data": {
      "text/plain": [
       "110"
      ]
     },
     "execution_count": 4,
     "metadata": {},
     "output_type": "execute_result"
    }
   ],
   "source": [
    "suv.max_speed"
   ]
  },
  {
   "cell_type": "code",
   "execution_count": 5,
   "id": "4e51ffc8-cb96-4a32-bf6b-26cc059dc1ad",
   "metadata": {},
   "outputs": [
    {
     "data": {
      "text/plain": [
       "12"
      ]
     },
     "execution_count": 5,
     "metadata": {},
     "output_type": "execute_result"
    }
   ],
   "source": [
    "suv.average_of_vehicle"
   ]
  },
  {
   "cell_type": "code",
   "execution_count": 14,
   "id": "fee03519-0565-4dcb-a142-2bc0b93d900b",
   "metadata": {},
   "outputs": [],
   "source": [
    "#Q2\n",
    "class vehicle:\n",
    "    def __init__(self,name_of_vehicle,max_speed,average_of_vehicle):\n",
    "        self.name_of_vehicle=name_of_vehicle\n",
    "        self.max_speed=max_speed\n",
    "        self.average_of_vehicle=average_of_vehicle\n",
    "class child(vehicle):\n",
    "    def return_seating_capacity(self,seating_capacity):\n",
    "        self.seating_capacity = seating_capacity\n",
    "        return seating_capacity , self.name_of_vehicle"
   ]
  },
  {
   "cell_type": "code",
   "execution_count": 15,
   "id": "76f49597-79c2-4a3a-865c-b2d1ff8201c9",
   "metadata": {},
   "outputs": [
    {
     "data": {
      "text/plain": [
       "(2, 'verna')"
      ]
     },
     "execution_count": 15,
     "metadata": {},
     "output_type": "execute_result"
    }
   ],
   "source": [
    "sedan=child(\"verna\",125,15)\n",
    "sedan.return_seating_capacity(2)"
   ]
  },
  {
   "cell_type": "code",
   "execution_count": 61,
   "id": "4c61bf73-e44e-4f5b-ba08-e3028b3ee3d3",
   "metadata": {},
   "outputs": [],
   "source": [
    "# Q3\n",
    "# multiple inhheritance in which an object or class can inherit features from more than one object class or parent class \n",
    "\n",
    "class mother:\n",
    "    def return_mother(self):\n",
    "        return \"this is mother\"\n",
    "\n",
    "    "
   ]
  },
  {
   "cell_type": "code",
   "execution_count": 62,
   "id": "4dc471fd-9cb3-4c75-9420-c25ac07acf61",
   "metadata": {},
   "outputs": [],
   "source": [
    "class father:\n",
    "    def return_father(self):\n",
    "        return \"this is father\""
   ]
  },
  {
   "cell_type": "code",
   "execution_count": 63,
   "id": "d70540f2-c230-4e77-9ba8-45d8125d74f2",
   "metadata": {},
   "outputs": [],
   "source": [
    "class son(father,mother):\n",
    "    pass"
   ]
  },
  {
   "cell_type": "code",
   "execution_count": 64,
   "id": "4808a578-0a0a-4e87-afa1-7091da79eaeb",
   "metadata": {},
   "outputs": [],
   "source": [
    "ashu=son()"
   ]
  },
  {
   "cell_type": "code",
   "execution_count": 65,
   "id": "03181868-dcff-44c0-a66e-1d9ce241f838",
   "metadata": {},
   "outputs": [
    {
     "data": {
      "text/plain": [
       "'this is father'"
      ]
     },
     "execution_count": 65,
     "metadata": {},
     "output_type": "execute_result"
    }
   ],
   "source": [
    "ashu.return_father()"
   ]
  },
  {
   "cell_type": "code",
   "execution_count": 66,
   "id": "a4a8b6b4-61d9-48f9-9677-f7b5f2c3b890",
   "metadata": {},
   "outputs": [
    {
     "data": {
      "text/plain": [
       "'this is mother'"
      ]
     },
     "execution_count": 66,
     "metadata": {},
     "output_type": "execute_result"
    }
   ],
   "source": [
    "ashu.return_mother()"
   ]
  },
  {
   "cell_type": "code",
   "execution_count": 43,
   "id": "ed5f8b80-3ae6-4e0d-a6f8-7fb4af0fed14",
   "metadata": {},
   "outputs": [],
   "source": [
    "# Q4\n",
    "# Getter: A method that allows you to access an attribute in a given class.\n",
    "# Setter: A method that allows you to set or mutate the value of an attribute in a class.\n",
    "\n",
    "class information():\n",
    "    def __init__(self,number,email):\n",
    "        self.__number=number\n",
    "        self.email=email\n",
    "    \n",
    "    @property\n",
    "    def get_number(self):\n",
    "        return self.__number\n",
    "    \n",
    "    @get_number.setter\n",
    "    def change_number(self,new_num):\n",
    "        self.__number = new_num\n",
    "        "
   ]
  },
  {
   "cell_type": "code",
   "execution_count": 44,
   "id": "2263e0ad-3c3c-4994-9a7d-eb99e7c36c3d",
   "metadata": {},
   "outputs": [],
   "source": [
    "ashu=information(866576356,\"@gmail.com\")"
   ]
  },
  {
   "cell_type": "code",
   "execution_count": 45,
   "id": "75ab3e24-bafe-419a-96f6-f4e41ce1b138",
   "metadata": {},
   "outputs": [
    {
     "data": {
      "text/plain": [
       "866576356"
      ]
     },
     "execution_count": 45,
     "metadata": {},
     "output_type": "execute_result"
    }
   ],
   "source": [
    "ashu.get_number"
   ]
  },
  {
   "cell_type": "code",
   "execution_count": 48,
   "id": "348acd2a-ff3b-47ea-9cf2-ee196074101e",
   "metadata": {},
   "outputs": [],
   "source": [
    "ashu.change_number=683298534"
   ]
  },
  {
   "cell_type": "code",
   "execution_count": 49,
   "id": "efed4cf5-214e-4d68-a672-8298e72772ff",
   "metadata": {},
   "outputs": [
    {
     "data": {
      "text/plain": [
       "683298534"
      ]
     },
     "execution_count": 49,
     "metadata": {},
     "output_type": "execute_result"
    }
   ],
   "source": [
    "ashu.get_number"
   ]
  },
  {
   "cell_type": "code",
   "execution_count": 67,
   "id": "f1c8b438-6b00-47fe-bfc5-8dc89f0bc94c",
   "metadata": {},
   "outputs": [],
   "source": [
    "# Q5 \n",
    "# Two or more methods have the same name but different numbers of parameters or different types of parameters, or both. These methods are called overloaded methods and this is called method overloading. \n",
    "class pwskills1:\n",
    "    def __init__(self,course,mentor):\n",
    "        self.course=course\n",
    "        self.mentor=mentor\n",
    "    @classmethod    \n",
    "    def input_details(cls,name,mentor): #we are using classmethod to overload given perimeter without __init__ \n",
    "        return cls(name ,mentor)"
   ]
  },
  {
   "cell_type": "code",
   "execution_count": 68,
   "id": "e4a74ee2-59fc-474c-8ab6-f6f644c017a8",
   "metadata": {},
   "outputs": [],
   "source": [
    "pw1=pwskills1.input_details(\"ashu\",\"harsh\")"
   ]
  },
  {
   "cell_type": "code",
   "execution_count": 69,
   "id": "59b30a97-37a0-4911-8db0-6b19338d82a6",
   "metadata": {},
   "outputs": [
    {
     "data": {
      "text/plain": [
       "'harsh'"
      ]
     },
     "execution_count": 69,
     "metadata": {},
     "output_type": "execute_result"
    }
   ],
   "source": [
    "pw1.mentor"
   ]
  },
  {
   "cell_type": "code",
   "execution_count": null,
   "id": "c2c68d54-eaa1-4099-aeaf-a18e6d1a7e60",
   "metadata": {},
   "outputs": [],
   "source": []
  }
 ],
 "metadata": {
  "kernelspec": {
   "display_name": "Python 3 (ipykernel)",
   "language": "python",
   "name": "python3"
  },
  "language_info": {
   "codemirror_mode": {
    "name": "ipython",
    "version": 3
   },
   "file_extension": ".py",
   "mimetype": "text/x-python",
   "name": "python",
   "nbconvert_exporter": "python",
   "pygments_lexer": "ipython3",
   "version": "3.10.8"
  }
 },
 "nbformat": 4,
 "nbformat_minor": 5
}
