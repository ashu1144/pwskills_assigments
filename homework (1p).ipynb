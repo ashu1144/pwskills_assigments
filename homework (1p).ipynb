{
 "cells": [
  {
   "cell_type": "code",
   "execution_count": null,
   "id": "4350cca7-a0b7-4f5d-9658-9baf79cd6bfc",
   "metadata": {},
   "outputs": [],
   "source": [
    "#Q1 Explain with an example each when to use a for loop and a while loop.\n",
    "while True:#HERE WE DONT KNOW THE ENDING POINT.it will exectues until the given conndtion become false\n",
    "    num=input(\"enter your phone number \")\n",
    "    if num.isnumeric() and len(num)==10:\n",
    "        print(\"YOUR NUMBER HAS BEEN REGISTERED \")\n",
    "        break\n",
    "    else:\n",
    "        print(\"Try again\")"
   ]
  },
  {
   "cell_type": "code",
   "execution_count": 1,
   "id": "0340ae84-0013-4e1d-96ac-baf091202946",
   "metadata": {},
   "outputs": [
    {
     "name": "stdin",
     "output_type": "stream",
     "text": [
      "enter your phone number  8\n"
     ]
    },
    {
     "name": "stdout",
     "output_type": "stream",
     "text": [
      "Try again\n"
     ]
    },
    {
     "name": "stdin",
     "output_type": "stream",
     "text": [
      "enter your phone number  5\n"
     ]
    },
    {
     "name": "stdout",
     "output_type": "stream",
     "text": [
      "Try again\n"
     ]
    },
    {
     "name": "stdin",
     "output_type": "stream",
     "text": [
      "enter your phone number  4\n"
     ]
    },
    {
     "name": "stdout",
     "output_type": "stream",
     "text": [
      "Try again\n"
     ]
    }
   ],
   "source": [
    "for i in range (0,3):#HERE WE KNOW THE ENDING POINT WHICH IS 3 IT WILL EXECUTE UNTILL CONDITION SATSISFIEED\n",
    "    num=input(\"enter your phone number \")\n",
    "    if num.isnumeric() and len(num)==10:\n",
    "        print(\"YOUR NUMBER HAS BEEN REGISTERED \")\n",
    "        break\n",
    "    else:\n",
    "        print(\"Try again\")"
   ]
  },
  {
   "cell_type": "code",
   "execution_count": 26,
   "id": "71ec8b62-d11e-463a-8ed0-7fc5d2e41473",
   "metadata": {},
   "outputs": [
    {
     "name": "stdout",
     "output_type": "stream",
     "text": [
      "55\n"
     ]
    }
   ],
   "source": [
    "# Q2 Write a python program to print the sum and product of the first 10 natural numbers using for and while loop\n",
    "#while loop\n",
    "i=1\n",
    "sum = 0\n",
    "while i <= 10:\n",
    "    sum = i + sum\n",
    "    i=i+1\n",
    "print(sum)"
   ]
  },
  {
   "cell_type": "code",
   "execution_count": 29,
   "id": "e7d7b559-f5a5-44b5-a579-5905a40faa31",
   "metadata": {},
   "outputs": [
    {
     "name": "stdout",
     "output_type": "stream",
     "text": [
      "55\n"
     ]
    }
   ],
   "source": [
    "#for loop\n",
    "sum = 0\n",
    "for i in range (1,11):\n",
    "    sum = sum +i\n",
    "print(sum)"
   ]
  },
  {
   "cell_type": "code",
   "execution_count": 30,
   "id": "3e5323c1-f1dc-4528-b9bd-2fefbb88c5d9",
   "metadata": {},
   "outputs": [
    {
     "name": "stdout",
     "output_type": "stream",
     "text": [
      "3628800\n"
     ]
    }
   ],
   "source": [
    "#while loop\n",
    "i=1\n",
    "product = 1\n",
    "while i <= 10:\n",
    "    product = i * product\n",
    "    i=i+1\n",
    "print(product)"
   ]
  },
  {
   "cell_type": "code",
   "execution_count": null,
   "id": "0491c170-ff5c-46b4-b242-1d766b40b917",
   "metadata": {},
   "outputs": [],
   "source": [
    "#while loop\n",
    "product=1\n",
    "for i in range(1,11) :\n",
    "    product = product *i\n",
    "print(product)"
   ]
  },
  {
   "cell_type": "code",
   "execution_count": 93,
   "id": "52c2f790-73b8-4ec5-bdf2-ef674031eb66",
   "metadata": {},
   "outputs": [
    {
     "name": "stdin",
     "output_type": "stream",
     "text": [
      "enter your electric bill 200\n"
     ]
    },
    {
     "name": "stdout",
     "output_type": "stream",
     "text": [
      "1050\n"
     ]
    }
   ],
   "source": [
    "#Q3 \n",
    "totalusage=int(input(\"enter your electric bill\"))\n",
    "cost=0\n",
    "if totalusage<=100:\n",
    "    for i in range(1,totalusage+1):\n",
    "        i = i * 4.5\n",
    "        cost = i\n",
    "    print(cost)\n",
    "    \n",
    "elif totalusage>100 and totalusage<=200:\n",
    "    for i in range (1,totalusage-99):\n",
    "        i= i * 6\n",
    "        cost = i \n",
    "    print(cost + 450)\n",
    "elif totalusage>200 and totalusage<=300:\n",
    "    for i in range(1,totalusage-199):\n",
    "        i = i * 10\n",
    "        cost = i\n",
    "    print(cost + 1050)\n",
    "else:\n",
    "    for i in range(1,totalusage-299):\n",
    "        i = i * 20\n",
    "        cost = i\n",
    "    print(\"cost =\",cost + 2050)\n",
    "    \n",
    " \n",
    " \n",
    "    "
   ]
  },
  {
   "cell_type": "code",
   "execution_count": null,
   "id": "a565164d-806b-4099-8418-7018775f2475",
   "metadata": {},
   "outputs": [],
   "source": []
  },
  {
   "cell_type": "code",
   "execution_count": null,
   "id": "b1ae160c-01e9-4c90-9d1c-47f120d41c0f",
   "metadata": {},
   "outputs": [],
   "source": []
  }
 ],
 "metadata": {
  "kernelspec": {
   "display_name": "Python 3 (ipykernel)",
   "language": "python",
   "name": "python3"
  },
  "language_info": {
   "codemirror_mode": {
    "name": "ipython",
    "version": 3
   },
   "file_extension": ".py",
   "mimetype": "text/x-python",
   "name": "python",
   "nbconvert_exporter": "python",
   "pygments_lexer": "ipython3",
   "version": "3.10.8"
  }
 },
 "nbformat": 4,
 "nbformat_minor": 5
}
