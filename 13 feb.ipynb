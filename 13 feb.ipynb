{
 "cells": [
  {
   "cell_type": "code",
   "execution_count": 3,
   "id": "3910e589-4803-40a4-9bec-e1dd0674b215",
   "metadata": {},
   "outputs": [
    {
     "name": "stdout",
     "output_type": "stream",
     "text": [
      "5.0\n",
      "error unsupported operand type(s) for +: 'int' and 'str'\n"
     ]
    }
   ],
   "source": [
    "#1 When creating a custom exception in Python, it is important to derive it from the Exception class or one of its subclasses. The Exception class serves as the base class for all built-in exceptions in Python."
   ]
  },
  {
   "cell_type": "code",
   "execution_count": 3,
   "id": "753c2ca3-8ab6-40fe-9c06-08082b7332e7",
   "metadata": {},
   "outputs": [
    {
     "name": "stdout",
     "output_type": "stream",
     "text": [
      "5.0\n",
      "error unsupported operand type(s) for +: 'int' and 'str'\n"
     ]
    }
   ],
   "source": [
    "#02\n",
    "try:\n",
    "    a=10 \n",
    "    b=2  #if i will b value 0 -> b=0 it wuill show zero divison error\n",
    "    print(a/b)\n",
    "    try:\n",
    "        for i in range(100):\n",
    "            a=\"ashu\"\n",
    "            print(i+a)\n",
    "    except Exception as e:\n",
    "        print(\"error\",e)\n",
    "except Exception as e:\n",
    "    print(\"error\",e)"
   ]
  },
  {
   "cell_type": "code",
   "execution_count": 1,
   "id": "1d186740-ebf0-42d0-a7ff-4cb98623c224",
   "metadata": {},
   "outputs": [
    {
     "name": "stdout",
     "output_type": "stream",
     "text": [
      "error = division by zero\n"
     ]
    }
   ],
   "source": [
    "#03\n",
    "# there are 4 error defined in ArithmeticError class\n",
    "#1 overflow error\n",
    "#2 zero divison error\n",
    "#3 FloatingPointError\n",
    "#4 UnderflowError"
   ]
  },
  {
   "cell_type": "code",
   "execution_count": 5,
   "id": "4ad87888-f30f-4057-9a0f-4f01ae1017cd",
   "metadata": {},
   "outputs": [
    {
     "ename": "ZeroDivisionError",
     "evalue": "division by zero",
     "output_type": "error",
     "traceback": [
      "\u001b[0;31m---------------------------------------------------------------------------\u001b[0m",
      "\u001b[0;31mZeroDivisionError\u001b[0m                         Traceback (most recent call last)",
      "Cell \u001b[0;32mIn[5], line 4\u001b[0m\n\u001b[1;32m      2\u001b[0m a\u001b[38;5;241m=\u001b[39m\u001b[38;5;241m10\u001b[39m \n\u001b[1;32m      3\u001b[0m b\u001b[38;5;241m=\u001b[39m\u001b[38;5;241m0\u001b[39m  \u001b[38;5;66;03m#if i will b value 0 -> b=0 it wuill show zero divison error\u001b[39;00m\n\u001b[0;32m----> 4\u001b[0m \u001b[38;5;28mprint\u001b[39m(\u001b[43ma\u001b[49m\u001b[38;5;241;43m/\u001b[39;49m\u001b[43mb\u001b[49m)\n",
      "\u001b[0;31mZeroDivisionError\u001b[0m: division by zero"
     ]
    }
   ],
   "source": [
    "# ZeroDivisionError: Raised when division or modulo operation is performed with zero as the divisor.\n",
    "a=10 \n",
    "b=0  #if i will b value 0 -> b=0 it wuill show zero divison error\n",
    "print(a/b)\n"
   ]
  },
  {
   "cell_type": "code",
   "execution_count": 3,
   "id": "2a5dad65-4ba9-415a-bf6f-ba209047b668",
   "metadata": {},
   "outputs": [
    {
     "name": "stdin",
     "output_type": "stream",
     "text": [
      "enter a number 4\n"
     ]
    },
    {
     "ename": "OverflowError",
     "evalue": "integer division result too large for a float",
     "output_type": "error",
     "traceback": [
      "\u001b[0;31m---------------------------------------------------------------------------\u001b[0m",
      "\u001b[0;31mOverflowError\u001b[0m                             Traceback (most recent call last)",
      "Cell \u001b[0;32mIn[3], line 4\u001b[0m\n\u001b[1;32m      2\u001b[0m \u001b[38;5;28;01mfor\u001b[39;00m i \u001b[38;5;129;01min\u001b[39;00m \u001b[38;5;28mrange\u001b[39m(\u001b[38;5;241m1000\u001b[39m):\n\u001b[1;32m      3\u001b[0m     a\u001b[38;5;241m=\u001b[39ma\u001b[38;5;241m*\u001b[39m\u001b[38;5;241m10\u001b[39m\n\u001b[0;32m----> 4\u001b[0m \u001b[38;5;28mprint\u001b[39m(\u001b[43ma\u001b[49m\u001b[38;5;241;43m/\u001b[39;49m\u001b[38;5;241;43m10\u001b[39;49m)\n",
      "\u001b[0;31mOverflowError\u001b[0m: integer division result too large for a float"
     ]
    }
   ],
   "source": [
    "# OverflowError: Raised when an arithmetic operation exceeds the limit of a numeric type, resulting in overflow.\n",
    "a=int(input(\"enter a number\"))\n",
    "for i in range(1000):\n",
    "    a=a*10\n",
    "print(a/10)\n"
   ]
  },
  {
   "cell_type": "code",
   "execution_count": 6,
   "id": "b33a4771-946b-4d04-8b99-cb0d58e7d9ab",
   "metadata": {},
   "outputs": [],
   "source": [
    "#04 LookupError class is used in Python to provide a common base class for exceptions related to lookup operations, such as accessing elements or values in sequences or mappings. It allows for consistent exception handling, categorization, and differentiation of lookup-related errors."
   ]
  },
  {
   "cell_type": "code",
   "execution_count": 8,
   "id": "3d34398f-cb90-4ef1-9b18-8bf6595a6af3",
   "metadata": {},
   "outputs": [
    {
     "ename": "KeyError",
     "evalue": "'gender'",
     "output_type": "error",
     "traceback": [
      "\u001b[0;31m---------------------------------------------------------------------------\u001b[0m",
      "\u001b[0;31mKeyError\u001b[0m                                  Traceback (most recent call last)",
      "Cell \u001b[0;32mIn[8], line 3\u001b[0m\n\u001b[1;32m      1\u001b[0m \u001b[38;5;66;03m# keyerror\u001b[39;00m\n\u001b[1;32m      2\u001b[0m my_dict \u001b[38;5;241m=\u001b[39m {\u001b[38;5;124m'\u001b[39m\u001b[38;5;124mname\u001b[39m\u001b[38;5;124m'\u001b[39m: \u001b[38;5;124m'\u001b[39m\u001b[38;5;124mJohn\u001b[39m\u001b[38;5;124m'\u001b[39m, \u001b[38;5;124m'\u001b[39m\u001b[38;5;124mage\u001b[39m\u001b[38;5;124m'\u001b[39m: \u001b[38;5;241m25\u001b[39m}\n\u001b[0;32m----> 3\u001b[0m value \u001b[38;5;241m=\u001b[39m \u001b[43mmy_dict\u001b[49m\u001b[43m[\u001b[49m\u001b[38;5;124;43m'\u001b[39;49m\u001b[38;5;124;43mgender\u001b[39;49m\u001b[38;5;124;43m'\u001b[39;49m\u001b[43m]\u001b[49m  \n",
      "\u001b[0;31mKeyError\u001b[0m: 'gender'"
     ]
    }
   ],
   "source": [
    "# keyerror\n",
    "# Accessing a non-existent key\n",
    "my_dict = {'name': 'John', 'age': 25}\n",
    "value = my_dict['gender']  \n"
   ]
  },
  {
   "cell_type": "code",
   "execution_count": 9,
   "id": "b2baeb72-ffaa-4017-a6a5-57a0739b6c33",
   "metadata": {},
   "outputs": [
    {
     "ename": "IndexError",
     "evalue": "list index out of range",
     "output_type": "error",
     "traceback": [
      "\u001b[0;31m---------------------------------------------------------------------------\u001b[0m",
      "\u001b[0;31mIndexError\u001b[0m                                Traceback (most recent call last)",
      "Cell \u001b[0;32mIn[9], line 2\u001b[0m\n\u001b[1;32m      1\u001b[0m my_list \u001b[38;5;241m=\u001b[39m [\u001b[38;5;241m1\u001b[39m, \u001b[38;5;241m2\u001b[39m, \u001b[38;5;241m3\u001b[39m]\n\u001b[0;32m----> 2\u001b[0m value \u001b[38;5;241m=\u001b[39m \u001b[43mmy_list\u001b[49m\u001b[43m[\u001b[49m\u001b[38;5;241;43m3\u001b[39;49m\u001b[43m]\u001b[49m\n",
      "\u001b[0;31mIndexError\u001b[0m: list index out of range"
     ]
    }
   ],
   "source": [
    "#Indexerror \n",
    "# Accessing an out-of-range index\n",
    "my_list = [1, 2, 3]\n",
    "value = my_list[3]\n"
   ]
  },
  {
   "cell_type": "code",
   "execution_count": 1,
   "id": "4faa9683-9593-4bf1-bb6b-a819812d320f",
   "metadata": {},
   "outputs": [],
   "source": [
    "#05\n",
    "# An ImportError is an exception that occurs in Python when there is a problem importing a module or a specific object from a module.\n",
    "# ImportError that occurs when Python is unable to find and import a module that you are trying to use in your code."
   ]
  },
  {
   "cell_type": "code",
   "execution_count": 19,
   "id": "affda970-9971-40c8-8dcf-4c873fec5b8e",
   "metadata": {},
   "outputs": [
    {
     "name": "stdout",
     "output_type": "stream",
     "text": [
      "division by zero\n"
     ]
    }
   ],
   "source": [
    "# Q6\n",
    "try:\n",
    "    for i in range(100):\n",
    "        print(i/0)\n",
    "except Exception as e:\n",
    "    print(e)"
   ]
  },
  {
   "cell_type": "code",
   "execution_count": 22,
   "id": "e6ff19a0-8470-4811-b652-a1cd0168cf6b",
   "metadata": {},
   "outputs": [
    {
     "name": "stdout",
     "output_type": "stream",
     "text": [
      "unsupported operand type(s) for +: 'int' and 'str'\n"
     ]
    }
   ],
   "source": [
    "try:\n",
    "    a=\"ashan\"\n",
    "    for i in range(100):\n",
    "        print(i+a)\n",
    "except Exception as e:\n",
    "    print(e)"
   ]
  },
  {
   "cell_type": "code",
   "execution_count": null,
   "id": "66a245f1-4f94-47c2-b81f-c6230f7079c7",
   "metadata": {},
   "outputs": [],
   "source": []
  }
 ],
 "metadata": {
  "kernelspec": {
   "display_name": "Python 3 (ipykernel)",
   "language": "python",
   "name": "python3"
  },
  "language_info": {
   "codemirror_mode": {
    "name": "ipython",
    "version": 3
   },
   "file_extension": ".py",
   "mimetype": "text/x-python",
   "name": "python",
   "nbconvert_exporter": "python",
   "pygments_lexer": "ipython3",
   "version": "3.10.8"
  }
 },
 "nbformat": 4,
 "nbformat_minor": 5
}
