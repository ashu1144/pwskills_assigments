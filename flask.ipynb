{
 "cells": [
  {
   "cell_type": "code",
   "execution_count": 1,
   "id": "c6685921-8116-425d-b2e0-ffc230167136",
   "metadata": {},
   "outputs": [],
   "source": [
    "#Q1\n",
    "\n",
    "# Flask is a lightweight and popular web application framework written in Python. It provides a simple and flexible way to build web applications and APIs. and it provides essential tools and features for routing, handling HTTP requests and responses, session management, and template rendering. \n",
    "\n",
    "# advantage\n",
    "# Simplicity: Flask is known for its minimalist design and straightforward syntax, making it easy for developers to quickly get started and build applications without unnecessary complexity or overhead.\n",
    "\n",
    "# Flexibility: The framework allows developers to choose the components they need, giving them the freedom to integrate various libraries and extensions based on their project requirements. This flexibility enables a more customized and efficient development process.\n",
    "\n",
    "# Lightweight: Flask has a small footprint and minimal dependencies, which makes it fast and efficient. It doesn't impose rigid structures, allowing developers to build applications tailored to their specific needs, making it suitable for smaall to medium-sized projects or prototypes."
   ]
  },
  {
   "cell_type": "code",
   "execution_count": null,
   "id": "ffac2f18-a48d-456e-822c-f2c26c813190",
   "metadata": {},
   "outputs": [],
   "source": [
    "# Q2\n",
    "from flask import Flask\n",
    "\n",
    "app = Flask(__name__)\n",
    "\n",
    "@app.route(\"/\")\n",
    "def hello_world2():\n",
    "    return \"<h1>World!!!</h1>\"\n",
    "    \n",
    "if __name__==\"__main__\":\n",
    "    app.run(host=\"0.0.0.0\")\n",
    "\n",
    "\n",
    "#screenshot is uploaded on flask github "
   ]
  },
  {
   "cell_type": "code",
   "execution_count": null,
   "id": "5952e533-fc3b-466b-b6c0-73181e7d448b",
   "metadata": {},
   "outputs": [],
   "source": [
    "#Q3\n",
    "# App routing in Flask refers to the process of defining URL routes for different parts of a web application. In Flask, routes are defined using Python decorators to associate functions (view functions) with specific URLs. Flask allows you to create different pages and functionalities for your web application, making it easy to handle different URL paths and HTTP methods (GET, POST, etc.).\n",
    "\n",
    "# We use app routes in Flask to map specific URLs to different functions within our web application. This allows us to handle different URL paths and HTTP methods, making it possible to create different pages and functionalities for our web app and provide appropriate responses to user requests. "
   ]
  },
  {
   "cell_type": "code",
   "execution_count": null,
   "id": "4b7d8a32-7eb3-4628-ba5e-516f87225bc2",
   "metadata": {},
   "outputs": [],
   "source": [
    "#Q4\n",
    "from flask import Flask\n",
    "\n",
    "app = Flask(__name__)\n",
    "\n",
    "@app.route(\"/\")\n",
    "def hello_world():\n",
    "    return '''<h1>Company Name: ABC Corporation \\n\n",
    "    Location: India\\n \n",
    "    Contact Detail: 999-999-9999</h1>'''\n",
    "\n",
    "@app.route(\"/WELCOME\")\n",
    "def hello_world1():\n",
    "    return \"<h1>Welcome to ABC Corporation</h1>\"\n",
    "    \n",
    "if __name__==\"__main__\":\n",
    "    app.run(host=\"0.0.0.0\")\n",
    "\n",
    "#screenshot is uploaded on flask github "
   ]
  },
  {
   "cell_type": "code",
   "execution_count": null,
   "id": "962df6ba-c811-469d-b2bc-aece5d655998",
   "metadata": {},
   "outputs": [],
   "source": [
    "# Q5\n",
    "# url_for is defined as a function that enables developers to build and generate URLs on a Flask application.\n",
    "    \n",
    "from flask import Flask, redirect, url_for\n",
    "app = Flask(__name__)\n",
    "\n",
    "@app.route('/admin')\n",
    "def hello_admin():\n",
    "   return 'Hello Admin'\n",
    "\n",
    "@app.route('/guest/<guest>')\n",
    "def hello_guest(guest):\n",
    "   return 'Hello %s as Guest' % guest\n",
    "\n",
    "@app.route('/user/<name>')\n",
    "def hello_user(name):\n",
    "   if name =='admin':\n",
    "      return redirect(url_for('hello_admin'))\n",
    "   else:\n",
    "      return redirect(url_for('hello_guest',guest = name))\n",
    "\n",
    "if __name__ == '__main__':\n",
    "   app.run(debug = True)"
   ]
  },
  {
   "cell_type": "code",
   "execution_count": null,
   "id": "babd3499-e9e8-4ae3-b2d5-72866a203f0d",
   "metadata": {},
   "outputs": [],
   "source": []
  },
  {
   "cell_type": "code",
   "execution_count": null,
   "id": "99ab5b6c-4d5e-4f98-bcfb-f9d0fea7783e",
   "metadata": {},
   "outputs": [],
   "source": []
  },
  {
   "cell_type": "code",
   "execution_count": null,
   "id": "643494d7-3893-4a52-858f-d519d91a646f",
   "metadata": {},
   "outputs": [],
   "source": []
  }
 ],
 "metadata": {
  "kernelspec": {
   "display_name": "Python 3 (ipykernel)",
   "language": "python",
   "name": "python3"
  },
  "language_info": {
   "codemirror_mode": {
    "name": "ipython",
    "version": 3
   },
   "file_extension": ".py",
   "mimetype": "text/x-python",
   "name": "python",
   "nbconvert_exporter": "python",
   "pygments_lexer": "ipython3",
   "version": "3.10.8"
  }
 },
 "nbformat": 4,
 "nbformat_minor": 5
}
