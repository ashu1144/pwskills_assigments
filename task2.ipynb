{
 "cells": [
  {
   "cell_type": "code",
   "execution_count": 40,
   "id": "f5e4f165-66d6-4cc2-8eb2-304bd52cde2a",
   "metadata": {},
   "outputs": [],
   "source": [
    "def ashu():\n",
    "    password=(input(\"enter your password \"))\n",
    "    lower_count=0\n",
    "    upper_count=0\n",
    "    special=('@_!#$%^&*()<>?/\\|}{~:')\n",
    "    special_count=0\n",
    "    number_count=0\n",
    "\n",
    "    if len(password)>=10:\n",
    "        for i in password:\n",
    "            for az in range(97,123):\n",
    "                if chr(az)==i:\n",
    "                    lower_count = lower_count + 1\n",
    "        if lower_count<2:\n",
    "            print(\"invalid Password \\n enter atleast two lowercase letters\")\n",
    "\n",
    "        for i in password:\n",
    "            for AZ in range(65,91):\n",
    "                if chr(AZ) == i:\n",
    "                    upper_count = upper_count +1\n",
    "        if upper_count<2:\n",
    "            print(\" invalid Password \\n enter atleast two upper case letters.\")\n",
    "\n",
    "        for i in password:\n",
    "            for spl in special:\n",
    "                if spl == i:\n",
    "                    special_count = special_count + 1\n",
    "            \n",
    "        for i in password:\n",
    "            for j in range(0,9):\n",
    "                if str(j) == i:\n",
    "                    number_count = number_count + 1\n",
    "        if special_count<3 or number_count<1:\n",
    "            print(\" invalid Password \\n write atleast a number and three special characters\")\n",
    "    else:\n",
    "        print(\"Invalid Password”.\")\n",
    "        \n"
   ]
  },
  {
   "cell_type": "code",
   "execution_count": 41,
   "id": "8ddf2cea-116b-4561-a0d9-9dc6ea704c83",
   "metadata": {},
   "outputs": [
    {
     "name": "stdin",
     "output_type": "stream",
     "text": [
      "enter your password  @@Ashu@12Q\n"
     ]
    }
   ],
   "source": [
    "ashu()"
   ]
  },
  {
   "cell_type": "code",
   "execution_count": 165,
   "id": "b915e915-1d09-4a45-bb9c-99b293d6f63e",
   "metadata": {},
   "outputs": [
    {
     "data": {
      "text/plain": [
       "[True, True, True, True]"
      ]
     },
     "execution_count": 165,
     "metadata": {},
     "output_type": "execute_result"
    }
   ],
   "source": [
    "#Q2\n",
    "letter=\"ashu is a good boy\"\n",
    "starting=\"ashu\"\n",
    "list(map(lambda x,y :  x == y  , letter , starting ))"
   ]
  },
  {
   "cell_type": "code",
   "execution_count": 236,
   "id": "0fdc99b5-325b-433c-ba3c-69e0742590b4",
   "metadata": {},
   "outputs": [
    {
     "data": {
      "text/plain": [
       "[True, True, True, True]"
      ]
     },
     "execution_count": 236,
     "metadata": {},
     "output_type": "execute_result"
    }
   ],
   "source": [
    "numb=\"1234\"\n",
    "[ i.isnumeric() for i in numb  ]"
   ]
  },
  {
   "cell_type": "code",
   "execution_count": 206,
   "id": "97d796ff-b5f8-446c-bd5d-35dc8b94fd3d",
   "metadata": {},
   "outputs": [
    {
     "data": {
      "text/plain": [
       "[[('orange', 80), ('mango', 99), ('grapes', 1000)]]"
      ]
     },
     "execution_count": 206,
     "metadata": {},
     "output_type": "execute_result"
    }
   ],
   "source": [
    "fruits=[(\"mango\",99),(\"orange\",80), (\"grapes\", 1000)]\n",
    "[sorted(fruits,key=lambda x: x[1] )]"
   ]
  },
  {
   "cell_type": "code",
   "execution_count": 207,
   "id": "2b6ad18a-db46-4ce9-be74-4a8b5b6eb1fc",
   "metadata": {},
   "outputs": [
    {
     "data": {
      "text/plain": [
       "[1, 4, 9, 16, 25, 36, 49, 64, 81, 100]"
      ]
     },
     "execution_count": 207,
     "metadata": {},
     "output_type": "execute_result"
    }
   ],
   "source": [
    "[ i*i for i in range(1,11) ]"
   ]
  },
  {
   "cell_type": "code",
   "execution_count": 163,
   "id": "000afa79-bbac-484e-a513-7acf7eade91c",
   "metadata": {},
   "outputs": [
    {
     "data": {
      "text/plain": [
       "[1, 8, 27, 64, 125, 216, 343, 512, 729, 1000]"
      ]
     },
     "execution_count": 163,
     "metadata": {},
     "output_type": "execute_result"
    }
   ],
   "source": [
    "[ i*(i*i) for i in range(1,11) ]"
   ]
  },
  {
   "cell_type": "code",
   "execution_count": 78,
   "id": "3ea65af0-b5e4-411d-becb-aa77fca18d14",
   "metadata": {},
   "outputs": [
    {
     "data": {
      "text/plain": [
       "['even']"
      ]
     },
     "execution_count": 78,
     "metadata": {},
     "output_type": "execute_result"
    }
   ],
   "source": [
    "given_number=10\n",
    "[ \"even\" if given_number%2==0 else\"odd\"]"
   ]
  },
  {
   "cell_type": "code",
   "execution_count": 169,
   "id": "6088deea-cd63-41d9-81a4-870f5cedf126",
   "metadata": {},
   "outputs": [
    {
     "data": {
      "text/plain": [
       "[1, 3, 5, 7, 9]"
      ]
     },
     "execution_count": 169,
     "metadata": {},
     "output_type": "execute_result"
    }
   ],
   "source": [
    "num=[1,2,3,4,5,6,7,8,9,10]\n",
    "list(filter(lambda x : x%2!=0,num))"
   ]
  },
  {
   "cell_type": "code",
   "execution_count": 168,
   "id": "e52b4308-a2fc-4aac-a491-7494f4170cdf",
   "metadata": {},
   "outputs": [],
   "source": [
    "num2 =[1,2,3,4,5,6,-1,-2,-3,-4,-5,0]\n",
    "positive = [ i for i in num2 if i>=0 ]\n",
    "negitive= [ i for i in num2 if  i<0 ]"
   ]
  },
  {
   "cell_type": "code",
   "execution_count": 158,
   "id": "3b820e6a-b505-460b-9f53-c8ac74515266",
   "metadata": {},
   "outputs": [
    {
     "name": "stdout",
     "output_type": "stream",
     "text": [
      "[1, 2, 3, 4, 5, 6, 0]\n",
      "[-1, -2, -3, -4, -5]\n"
     ]
    }
   ],
   "source": [
    "print(positive)\n",
    "print(negitive)"
   ]
  },
  {
   "cell_type": "code",
   "execution_count": null,
   "id": "02742d3d-0bf8-462d-b58c-9b3771f58ec0",
   "metadata": {},
   "outputs": [],
   "source": []
  },
  {
   "cell_type": "code",
   "execution_count": null,
   "id": "3c652da8-3306-4a36-b352-0217d8b8df1f",
   "metadata": {},
   "outputs": [],
   "source": []
  }
 ],
 "metadata": {
  "kernelspec": {
   "display_name": "Python 3 (ipykernel)",
   "language": "python",
   "name": "python3"
  },
  "language_info": {
   "codemirror_mode": {
    "name": "ipython",
    "version": 3
   },
   "file_extension": ".py",
   "mimetype": "text/x-python",
   "name": "python",
   "nbconvert_exporter": "python",
   "pygments_lexer": "ipython3",
   "version": "3.10.8"
  }
 },
 "nbformat": 4,
 "nbformat_minor": 5
}
