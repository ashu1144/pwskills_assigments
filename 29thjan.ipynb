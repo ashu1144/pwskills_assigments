{
 "cells": [
  {
   "cell_type": "code",
   "execution_count": null,
   "id": "b1b9a9ff-2e12-460b-a01f-21bf75eaa586",
   "metadata": {},
   "outputs": [],
   "source": [
    "#Q1\n",
    "Guido van Rossum"
   ]
  },
  {
   "cell_type": "code",
   "execution_count": 5,
   "id": "120cd7ac-456b-4a05-b127-a00224e3424d",
   "metadata": {},
   "outputs": [],
   "source": [
    "#Q2\n",
    " Object-oriented programming and structured programming"
   ]
  },
  {
   "cell_type": "code",
   "execution_count": null,
   "id": "196b9517-df0b-4c6f-abf5-22de286c2413",
   "metadata": {},
   "outputs": [],
   "source": [
    "#Q3\n",
    "yes python is case sensitive language"
   ]
  },
  {
   "cell_type": "code",
   "execution_count": null,
   "id": "08ab48be-d245-4944-a94f-9496b2537ce7",
   "metadata": {},
   "outputs": [],
   "source": [
    "#Q4\n",
    ".py"
   ]
  },
  {
   "cell_type": "code",
   "execution_count": null,
   "id": "b2f07373-3e85-4749-bd93-2918eb96264c",
   "metadata": {},
   "outputs": [],
   "source": [
    "#Q5\n",
    "Python is both compiled as well as an interpreted language,\n",
    "which means when we run a python code it is first compiled and then interpreted line by line"
   ]
  },
  {
   "cell_type": "code",
   "execution_count": 7,
   "id": "915fd280-a8c4-413f-9477-94cdb0077460",
   "metadata": {},
   "outputs": [
    {
     "name": "stdout",
     "output_type": "stream",
     "text": [
      "Correct Name!!\n",
      "HI\n"
     ]
    }
   ],
   "source": [
    "#Q6\n",
    "name = 'ASHU'\n",
    "if name == 'ASHU':\n",
    "    print('Correct Name!!')\n",
    "else:\n",
    "\tprint('InCorrect Name:(')\n",
    "print('HI')"
   ]
  },
  {
   "cell_type": "code",
   "execution_count": null,
   "id": "e4798417-1fd7-4943-bd13-788632734b09",
   "metadata": {},
   "outputs": [],
   "source": [
    "#Q7\n",
    "Hash character(#)"
   ]
  },
  {
   "cell_type": "code",
   "execution_count": null,
   "id": "7f01e07d-53d0-425b-9a32-e9bfe3d40064",
   "metadata": {},
   "outputs": [],
   "source": [
    "#Q8\n",
    "python --version"
   ]
  },
  {
   "cell_type": "code",
   "execution_count": null,
   "id": "a60654ac-a312-4fb1-b1fc-7a9efca338b6",
   "metadata": {},
   "outputs": [],
   "source": [
    "#Q9\n",
    "\"lambda\""
   ]
  },
  {
   "cell_type": "code",
   "execution_count": 8,
   "id": "e234ec3c-7b39-415e-b888-cf64fae3ef12",
   "metadata": {},
   "outputs": [],
   "source": [
    "#Q10\n",
    "preferred installer program"
   ]
  },
  {
   "cell_type": "code",
   "execution_count": null,
   "id": "f257183a-e816-45a0-81c6-57f314d1aad6",
   "metadata": {},
   "outputs": [],
   "source": [
    "# Q11\n",
    "int,input,len,etc"
   ]
  },
  {
   "cell_type": "code",
   "execution_count": null,
   "id": "492e35eb-1261-43c0-ae60-732ad2dc7bc3",
   "metadata": {},
   "outputs": [],
   "source": [
    "#Q12\n",
    "79 characters"
   ]
  },
  {
   "cell_type": "code",
   "execution_count": null,
   "id": "3392d3d8-b1ed-4035-bf86-b8983fdbc868",
   "metadata": {},
   "outputs": [],
   "source": [
    "#Q13\n",
    "python is simple to understand and use.\n",
    "User-friendly data structures \n",
    "Object-Oriented and Procedural  Programming language\n",
    "etc"
   ]
  },
  {
   "cell_type": "code",
   "execution_count": null,
   "id": "1f1f2616-24b2-47d8-80d3-7a12ffea86cb",
   "metadata": {},
   "outputs": [],
   "source": [
    "#Q14\n",
    "Python uses a portion of the memory for internal use and non-object memory."
   ]
  },
  {
   "cell_type": "code",
   "execution_count": null,
   "id": "ff2c6465-6d4e-4cf9-a2a7-487e721df80d",
   "metadata": {},
   "outputs": [],
   "source": [
    "# Q15\n",
    "Install python from this link https://www.python.org/downloads/\n",
    "After this, install it on your PC. Look for the location where PYTHON has been installed on your PC using tge following command on your command prompt: cmd python.\n",
    "Then go to advanced system settings and add new variable and name it as PYTHON_NAME and paste the copied path.\n",
    "Then look for the path variable, select it's value and select edit\n",
    "Add a semicolon towards the end of the value if it's not present and then type %PYTHON_HOME%"
   ]
  },
  {
   "cell_type": "code",
   "execution_count": null,
   "id": "af113d43-9f7e-4fec-8f0d-93cc237a4103",
   "metadata": {},
   "outputs": [],
   "source": [
    "#Q16\n",
    "yes!the indentation in Python is very important. "
   ]
  },
  {
   "cell_type": "code",
   "execution_count": null,
   "id": "eea08ab3-14bc-4d5e-bd63-ca2e179977ed",
   "metadata": {},
   "outputs": [],
   "source": []
  },
  {
   "cell_type": "code",
   "execution_count": null,
   "id": "0e73b31d-bd6d-476b-bb06-edcbcd2d9437",
   "metadata": {},
   "outputs": [],
   "source": []
  },
  {
   "cell_type": "code",
   "execution_count": null,
   "id": "ba44d9cb-9973-414c-be72-39b2f5ad81b1",
   "metadata": {},
   "outputs": [],
   "source": []
  }
 ],
 "metadata": {
  "kernelspec": {
   "display_name": "Python 3 (ipykernel)",
   "language": "python",
   "name": "python3"
  },
  "language_info": {
   "codemirror_mode": {
    "name": "ipython",
    "version": 3
   },
   "file_extension": ".py",
   "mimetype": "text/x-python",
   "name": "python",
   "nbconvert_exporter": "python",
   "pygments_lexer": "ipython3",
   "version": "3.10.8"
  }
 },
 "nbformat": 4,
 "nbformat_minor": 5
}
