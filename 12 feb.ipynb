{
 "cells": [
  {
   "cell_type": "code",
   "execution_count": 1,
   "id": "e43021b9-272e-47a8-ad41-3372abb2b4ed",
   "metadata": {},
   "outputs": [],
   "source": [
    "# Q1\n",
    "# An exception is an event, which occurs during the execution of a program that disrupts the normal flow of the program's instructions    "
   ]
  },
  {
   "cell_type": "code",
   "execution_count": 2,
   "id": "a82af53b-6b3b-48a1-90eb-15e322365e26",
   "metadata": {},
   "outputs": [],
   "source": [
    "# An error is an issue in a program that prevents the program from completing its task. In comparison, an exception is a condition that interrupts the normal flow of the program"
   ]
  },
  {
   "cell_type": "code",
   "execution_count": 88,
   "id": "21207709-ca31-404d-99bb-cf1b7ceb3c29",
   "metadata": {},
   "outputs": [
    {
     "ename": "ZeroDivisionError",
     "evalue": "division by zero",
     "output_type": "error",
     "traceback": [
      "\u001b[0;31m---------------------------------------------------------------------------\u001b[0m",
      "\u001b[0;31mZeroDivisionError\u001b[0m                         Traceback (most recent call last)",
      "Cell \u001b[0;32mIn[88], line 6\u001b[0m\n\u001b[1;32m      1\u001b[0m \u001b[38;5;66;03m# Q2\u001b[39;00m\n\u001b[1;32m      2\u001b[0m \u001b[38;5;66;03m# When an exception is not handled in Python, it results in the termination of the program and an error message is displayed\u001b[39;00m\n\u001b[1;32m      3\u001b[0m \u001b[38;5;66;03m# example:-\u001b[39;00m\n\u001b[1;32m      5\u001b[0m \u001b[38;5;28;01mtry\u001b[39;00m:\n\u001b[0;32m----> 6\u001b[0m     result \u001b[38;5;241m=\u001b[39m \u001b[38;5;241;43m10\u001b[39;49m\u001b[43m \u001b[49m\u001b[38;5;241;43m/\u001b[39;49m\u001b[43m \u001b[49m\u001b[38;5;241;43m0\u001b[39;49m  \u001b[38;5;66;03m# Division by zero raises an exception\u001b[39;00m\n\u001b[1;32m      7\u001b[0m     \u001b[38;5;28mprint\u001b[39m(result)\n\u001b[1;32m      8\u001b[0m \u001b[38;5;28;01mexcept\u001b[39;00m \u001b[38;5;167;01mValueError\u001b[39;00m:\n",
      "\u001b[0;31mZeroDivisionError\u001b[0m: division by zero"
     ]
    }
   ],
   "source": [
    "# Q2\n",
    "# When an exception is not handled in Python, it results in the termination of the program and an error message is displayed\n",
    "# example:-\n",
    "\n",
    "try:\n",
    "    result = 10 / 0  # Division by zero raises an exception\n",
    "    print(result)\n",
    "except ValueError:\n",
    "    print(\"This is a ValueError.\")\n",
    "\n",
    "# ZeroDivisionError is raised because we're trying to divide a number by zero. Since there is no exception handler for ZeroDivisionError specified in the code, the exception is not caught, and the program terminates with an error message:\n",
    "    "
   ]
  },
  {
   "cell_type": "code",
   "execution_count": 2,
   "id": "fdb0a1a6-27b8-4ac4-89ad-0c30d51d9484",
   "metadata": {},
   "outputs": [
    {
     "name": "stdout",
     "output_type": "stream",
     "text": [
      "error happend [Errno 2] No such file or directory: 'file5.txt'\n"
     ]
    }
   ],
   "source": [
    "#03\n",
    "# you can catch and handle exceptions using the try and except statements.\n",
    "try:\n",
    "    f=open(\"file5.txt\",\"r\")\n",
    "    f.write(\"hello\")\n",
    "    f.close()\n",
    "except Exception as e :\n",
    "    print(\"error happend\",e)"
   ]
  },
  {
   "cell_type": "code",
   "execution_count": 4,
   "id": "aed34cb8-4de2-4b49-a732-04cdca847385",
   "metadata": {},
   "outputs": [
    {
     "name": "stdout",
     "output_type": "stream",
     "text": [
      "done\n"
     ]
    }
   ],
   "source": [
    "#Q4\n",
    "# try statement can be extended with an optional else block. The else block is executed if no exceptions are raised within the try block.\n",
    "try:\n",
    "    f=open(\"file3.txt\",\"w\")\n",
    "    f.write(\"hello\")\n",
    "except Exception as e :\n",
    "    print(\"error happend\",e)\n",
    "else:\n",
    "    f.close()\n",
    "    print(\"done\") "
   ]
  },
  {
   "cell_type": "code",
   "execution_count": 11,
   "id": "435c3d2d-5b86-4240-a34a-a0e3b6b92a57",
   "metadata": {},
   "outputs": [
    {
     "name": "stdout",
     "output_type": "stream",
     "text": [
      "error happend not writable\n",
      "done\n"
     ]
    }
   ],
   "source": [
    "\n",
    "# finally block will execute in every situation\n",
    "try:\n",
    "    f=open(\"file4.txt\",\"r\")\n",
    "    f.write(\"hello\")\n",
    "    f.close()\n",
    "except Exception as e :\n",
    "    print(\"error happend\",e)\n",
    "finally:\n",
    "    print(\"done\")\n",
    "    "
   ]
  },
  {
   "cell_type": "code",
   "execution_count": 106,
   "id": "a1c19322-de70-4f3b-bbe2-a2628aae7702",
   "metadata": {},
   "outputs": [],
   "source": [
    "# raise:-It allows you to generate and throw exceptions programmatically at specific points in your code.\n",
    "class validateage(Exception):\n",
    "    \n",
    "    def __init__(self , msg) : \n",
    "        self.msg = msg"
   ]
  },
  {
   "cell_type": "code",
   "execution_count": 107,
   "id": "83ed04c2-fa34-443f-90a0-b053ea38d585",
   "metadata": {},
   "outputs": [],
   "source": [
    "def validaetage(age) : \n",
    "    if age < 0 :\n",
    "        raise validateage(\"entered age is negative \" )\n",
    "    elif age > 200 : \n",
    "        raise validateage(\"enterd age is very very high \" )\n",
    "    else :\n",
    "        print(\"age is valid\" )"
   ]
  },
  {
   "cell_type": "code",
   "execution_count": 108,
   "id": "5019ec96-f479-4998-a07c-758eb0041217",
   "metadata": {},
   "outputs": [
    {
     "name": "stdin",
     "output_type": "stream",
     "text": [
      "enter your age -1\n"
     ]
    },
    {
     "name": "stdout",
     "output_type": "stream",
     "text": [
      "entered age is negative \n"
     ]
    }
   ],
   "source": [
    "try :\n",
    "    age = int(input(\"enter your age\" ))\n",
    "    validaetage(age)\n",
    "except validateage as e :\n",
    "    print(e)"
   ]
  },
  {
   "cell_type": "code",
   "execution_count": 122,
   "id": "bc19b6f0-4d05-4776-8eac-9a02b36d3505",
   "metadata": {},
   "outputs": [
    {
     "name": "stdin",
     "output_type": "stream",
     "text": [
      "enter your age -1\n"
     ]
    },
    {
     "name": "stdout",
     "output_type": "stream",
     "text": [
      "entered age is negative \n"
     ]
    }
   ],
   "source": [
    "#Q5\n",
    "# Custom exceptions in Python are user-defined exception classes that allow you to define your own specific types of exceptions.\n",
    "# we need custom exception because they allow you to define your own specific types of exceptions for your code.\n",
    "class validateage(Exception):\n",
    "    \n",
    "    def __init__(self , msg) : \n",
    "        self.msg = msg\n",
    "def validaetage(age) : \n",
    "    if age < 0 :\n",
    "        raise validateage(\"entered age is negative \" )\n",
    "    elif age > 200 : \n",
    "        raise validateage(\"enterd age is very very high \" )\n",
    "    else :\n",
    "        print(\"age is valid\" )\n",
    "try :\n",
    "    age = int(input(\"enter your age\" ))\n",
    "    validaetage(age)\n",
    "except validateage as e :\n",
    "    print(e)"
   ]
  },
  {
   "cell_type": "code",
   "execution_count": 119,
   "id": "f3daa038-bbcb-423c-b0f8-24aaab4cd5a5",
   "metadata": {},
   "outputs": [],
   "source": [
    "# Q6\n",
    "class rollnumber(Exception):\n",
    "    def __init__(self,msg):\n",
    "        self.msg=msg"
   ]
  },
  {
   "cell_type": "code",
   "execution_count": 120,
   "id": "d673dd4a-a9a8-432b-ab70-d553076a61eb",
   "metadata": {},
   "outputs": [],
   "source": [
    "def stdnumbers(roll):\n",
    "    if roll < 0:\n",
    "        raise rollnumber(\"INVALID\")\n",
    "    elif roll > 100:\n",
    "        raise rollnumber(\"roll out of class\")\n",
    "    else:\n",
    "        print(\"done\")"
   ]
  },
  {
   "cell_type": "code",
   "execution_count": 121,
   "id": "39c8a8f1-df6e-48f2-9e77-fc2efd508cbf",
   "metadata": {},
   "outputs": [
    {
     "name": "stdin",
     "output_type": "stream",
     "text": [
      "enter your age  200\n"
     ]
    },
    {
     "name": "stdout",
     "output_type": "stream",
     "text": [
      "roll out of class\n"
     ]
    }
   ],
   "source": [
    "try:\n",
    "    roll = int(input(\"enter your age \"))\n",
    "    stdnumbers(roll)\n",
    "except rollnumber as e :\n",
    "    print(e)"
   ]
  },
  {
   "cell_type": "code",
   "execution_count": null,
   "id": "fa810f18-7485-4d06-802d-f2be8a56fb28",
   "metadata": {},
   "outputs": [],
   "source": []
  }
 ],
 "metadata": {
  "kernelspec": {
   "display_name": "Python 3 (ipykernel)",
   "language": "python",
   "name": "python3"
  },
  "language_info": {
   "codemirror_mode": {
    "name": "ipython",
    "version": 3
   },
   "file_extension": ".py",
   "mimetype": "text/x-python",
   "name": "python",
   "nbconvert_exporter": "python",
   "pygments_lexer": "ipython3",
   "version": "3.10.8"
  }
 },
 "nbformat": 4,
 "nbformat_minor": 5
}
