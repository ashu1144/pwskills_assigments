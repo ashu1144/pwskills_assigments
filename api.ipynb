{
 "cells": [
  {
   "cell_type": "code",
   "execution_count": 12,
   "id": "1134883e-48b0-443c-acba-4308774b5cb8",
   "metadata": {},
   "outputs": [
    {
     "name": "stdout",
     "output_type": "stream",
     "text": [
      "this is my code\n"
     ]
    }
   ],
   "source": [
    "#Q1\n",
    "# # An API (Application Programming Interface) is a set of rules and protocols that allows different software applications to communicate and interact with each other. \n",
    "\n",
    "# EXAMPLE - an API acts as an intermediary that allows different software systems to talk to each other, enabling them to exchange data and perform specific tasks seamlessly.\n",
    "\n",
    "# IN the weather application, acts as the client, and the remote server that provides weather data acts as the API."
   ]
  },
  {
   "cell_type": "code",
   "execution_count": 1,
   "id": "236eaebb-26a9-4685-8611-c8a7f0b00071",
   "metadata": {},
   "outputs": [
    {
     "ename": "SyntaxError",
     "evalue": "invalid syntax (4097819078.py, line 1)",
     "output_type": "error",
     "traceback": [
      "\u001b[0;36m  Cell \u001b[0;32mIn[1], line 1\u001b[0;36m\u001b[0m\n\u001b[0;31m    Advantages of using APIs:\u001b[0m\n\u001b[0m               ^\u001b[0m\n\u001b[0;31mSyntaxError\u001b[0m\u001b[0;31m:\u001b[0m invalid syntax\n"
     ]
    }
   ],
   "source": [
    "# Q2\n",
    "Advantages of using APIs:\n",
    "\n",
    "# Simplified Development: APIs provide pre-built functionalities, allowing developers to leverage existing code and services. This accelerates development, reduces the need for reinventing the wheel, and promotes code reuse.\n",
    "\n",
    "# Scalability and Flexibility: APIs allow businesses to scale their offerings by providing services that can be accessed by various clients\n",
    "\n",
    "# Ecosystem Expansion: APIs encourage the creation of an ecosystem of applications and services that can integrate and complement each other.\n",
    "\n",
    "Disadvantages of using APIs:\n",
    "    \n",
    "# Dependency and Reliability: Relying on external APIs creates a dependency on the service provider.\n",
    "\n",
    "# Security Risks: Integrating third-party APIs exposes applications to potential security vulnerabilities.\n",
    "\n",
    "# Performance Overhead: External API calls can introduce latency, especially if the provider's servers are located far away or experience high traffic. This can affect the responsiveness and performance of the application."
   ]
  },
  {
   "cell_type": "code",
   "execution_count": 2,
   "id": "d2bd5f13-3f65-4399-9bbf-632b089676e7",
   "metadata": {},
   "outputs": [],
   "source": [
    "#Q3\n",
    "# A Web API (Application Programming Interface) is an interface provided by web servers that allows different software applications to communicate and interact with each other over the internet.\n",
    "\n",
    "# API -(Application Programming Interface): An API is a general term that refers to a set of rules and protocols that allows different software applications to communicate and interact with each other\n",
    "\n",
    "# Web API - (Web Application Programming Interface): A Web API specifically refers to an interface provided by web servers that allows software applications to communicate and interact with each other over the internet using standard web protocols like HTTP. HTTP methods (GET, POST, etc.) to exchange data between clients and servers."
   ]
  },
  {
   "cell_type": "code",
   "execution_count": 3,
   "id": "5497deab-8e34-4e75-98f3-01caf8155857",
   "metadata": {},
   "outputs": [],
   "source": [
    "# #Q4\n",
    "# REST API -\n",
    "# rest_api - rest api to do comunication between the application over the wbe , \n",
    "# rest api is simple , simply , flexiblity \n",
    "# based on HTTP \n",
    "# HTTP methods (GET, POST, etc.)\n",
    "\n",
    "# SOAP ARCHITECTURE\n",
    "# SOAP is a protocol for exchanging structured information in web services.\n",
    "#  It uses XML for message format and operates over various transport protocols like HTTP, SMTP, or TCP\n",
    "# LIGHT WEIGHT \n",
    "# MORE SECURE\n",
    "\n",
    "\n",
    "# Shortcomings of SOAP:\n",
    "\n",
    "# Complexity: SOAP messages are based on XML, which makes them more complex and verbose compared to other lightweight data formats like JSON used in REST. This complexity can lead to increased overhead and slower processing.\n",
    "\n",
    "# Overhead: SOAP messages include additional headers and metadata for security and routing purposes, which can result in higher overhead, especially for simple requests.\n",
    "\n",
    "# Limited Support for Web Standards: SOAP doesn't fully leverage existing web standards like HTTP, making it less compatible with web infrastructure and more challenging to integrate with existing web-based applications.\n",
    "\n",
    "# Performance: Due to its XML-based nature and additional processing requirements, SOAP can be slower and less efficient compared to other communication protocols, especially in low-bandwidth or high-latency environments.\n"
   ]
  },
  {
   "cell_type": "code",
   "execution_count": null,
   "id": "2a20a878-953d-45a2-86f9-c6df872b6267",
   "metadata": {},
   "outputs": [],
   "source": [
    "REST (Representational State Transfer):\n",
    "\n",
    "1.Architecture: REST is an architectural style for designing networked applications, particularly web services.\n",
    "2.Protocol: Uses standard HTTP methods (GET, POST, PUT, DELETE) to perform operations on resources represented as URLs.\n",
    "3.Overhead: Less overhead due to lightweight data format and statelessness.\n",
    "\n",
    "\n",
    "SOAP (Simple Object Access Protocol):\n",
    "\n",
    "1.Protocol: Uses XML for message format and operates over various transport protocols like HTTP, SMTP, or TCP.\n",
    "2.Data Format: SOAP messages are typically based on XML, making them more complex and verbose.\n",
    "3. Compatibility: Less compatible with web standards and existing web infrastructure compared to REST."
   ]
  }
 ],
 "metadata": {
  "kernelspec": {
   "display_name": "Python 3 (ipykernel)",
   "language": "python",
   "name": "python3"
  },
  "language_info": {
   "codemirror_mode": {
    "name": "ipython",
    "version": 3
   },
   "file_extension": ".py",
   "mimetype": "text/x-python",
   "name": "python",
   "nbconvert_exporter": "python",
   "pygments_lexer": "ipython3",
   "version": "3.10.8"
  }
 },
 "nbformat": 4,
 "nbformat_minor": 5
}
