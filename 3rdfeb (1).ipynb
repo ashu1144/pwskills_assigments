{
 "cells": [
  {
   "cell_type": "code",
   "execution_count": 11,
   "id": "37d15373-d417-492b-992f-91ea42bd7699",
   "metadata": {},
   "outputs": [],
   "source": [
    "# Q1\n",
    "# def is used to create a function\n",
    "oddnum=[]\n",
    "def odd():\n",
    "    for i in range(0,26):\n",
    "        if i%2!=0:\n",
    "            oddnum.append(i)\n",
    "    print(oddnum) "
   ]
  },
  {
   "cell_type": "code",
   "execution_count": 12,
   "id": "8aeca87f-4e88-422a-b645-e6861b555964",
   "metadata": {},
   "outputs": [
    {
     "name": "stdout",
     "output_type": "stream",
     "text": [
      "[1, 3, 5, 7, 9, 11, 13, 15, 17, 19, 21, 23, 25]\n"
     ]
    }
   ],
   "source": [
    "odd()"
   ]
  },
  {
   "cell_type": "code",
   "execution_count": 17,
   "id": "ed53dfb5-29ce-4f53-b4b4-c58b0242de15",
   "metadata": {},
   "outputs": [],
   "source": [
    "#Q2\n",
    "# We use *args and **kwargs as an argument when we are unsure about the number of arguments to pass in the functions.\n",
    "def args(*ashu): \n",
    "# args specifies the number of non-keyworded arguments that can be passed and the operations that can be performed on the function in Python\n",
    "    return ashu"
   ]
  },
  {
   "cell_type": "code",
   "execution_count": 18,
   "id": "e38b45b2-ff0e-412f-be9e-2ccab6714a41",
   "metadata": {},
   "outputs": [
    {
     "data": {
      "text/plain": [
       "(5, 6, 8, 5, 6, 68, 6)"
      ]
     },
     "execution_count": 18,
     "metadata": {},
     "output_type": "execute_result"
    }
   ],
   "source": [
    "args(5,6,8,5,6,68,6)"
   ]
  },
  {
   "cell_type": "code",
   "execution_count": 8,
   "id": "a5954241-b6b7-49d3-be79-0885ce1651a0",
   "metadata": {},
   "outputs": [],
   "source": [
    "def dictargs(**ashudict):\n",
    "# **kwargs is a variable number of keyworded arguments that can be passed to a function that can perform\n",
    "    return ashudict"
   ]
  },
  {
   "cell_type": "code",
   "execution_count": 9,
   "id": "871784a7-8b1e-45e9-9300-db94a9f9bb28",
   "metadata": {},
   "outputs": [
    {
     "data": {
      "text/plain": [
       "{'key1': 'xyz', 'key2': 'abc', 'key3': 'efg'}"
      ]
     },
     "execution_count": 9,
     "metadata": {},
     "output_type": "execute_result"
    }
   ],
   "source": [
    "dictargs(key1=\"xyz\",key2=\"abc\",key3=\"efg\")"
   ]
  },
  {
   "cell_type": "code",
   "execution_count": 23,
   "id": "72a13516-99ca-42f0-aa27-4158b5f2da20",
   "metadata": {},
   "outputs": [
    {
     "name": "stdout",
     "output_type": "stream",
     "text": [
      "2\n",
      "4\n",
      "6\n",
      "8\n",
      "10\n"
     ]
    }
   ],
   "source": [
    "#Q3\n",
    "#ANS--> iterators give one element at a time\n",
    "#ANS-->  iterator initialise by iter() and next() is used for iteration\n",
    "# EXAMPLE-\n",
    "s=\"Ashu\"\n",
    "a=iter(s)\n",
    " # Use these methods to print the first five elements of the given list [2, 4, 6, 8, 10, 12, 14, 16, 18, 20].\n",
    "# list = [2, 4, 6, 8, 10, 12, 14, 16, 18, 20]\n",
    "\n",
    "l2=[2,4,6,8,10,12,14,16,18,20]\n",
    "iterator=iter(l2)\n",
    "for i in range(5):\n",
    "    print(next(iterator))\n",
    "   "
   ]
  },
  {
   "cell_type": "code",
   "execution_count": 1,
   "id": "136a580a-9eb5-42db-93a7-fd3617d7d7c9",
   "metadata": {},
   "outputs": [],
   "source": [
    "# Q4,  generator is a function that returns an iterator that produces a sequence of values when iterated over.\n",
    "# the yield keyword will convert an expression that is specified along with it to a generator iterator, and return it to the caller.\n",
    "def genex():\n",
    "    for i in range(1,100):\n",
    "        yield i"
   ]
  },
  {
   "cell_type": "code",
   "execution_count": 2,
   "id": "085df1ab-04bf-4bab-995b-1ba70337a9dd",
   "metadata": {},
   "outputs": [
    {
     "data": {
      "text/plain": [
       "<generator object genex at 0x7f615f399770>"
      ]
     },
     "execution_count": 2,
     "metadata": {},
     "output_type": "execute_result"
    }
   ],
   "source": [
    "genex()"
   ]
  },
  {
   "cell_type": "code",
   "execution_count": 58,
   "id": "326438da-ba84-43c0-8124-ab15be7417df",
   "metadata": {},
   "outputs": [],
   "source": [
    "# Q5\n",
    "def gen(n):\n",
    "    for i in range(2,n):\n",
    "        for j in range(2,i):\n",
    "            if (i%j)==0:\n",
    "                break\n",
    "        else:\n",
    "            yield i"
   ]
  },
  {
   "cell_type": "code",
   "execution_count": 59,
   "id": "d5fef67b-6900-464b-9353-04cbe31ede0b",
   "metadata": {},
   "outputs": [
    {
     "name": "stdout",
     "output_type": "stream",
     "text": [
      "2\n",
      "3\n",
      "5\n",
      "7\n",
      "11\n",
      "13\n",
      "17\n",
      "19\n",
      "23\n",
      "29\n",
      "31\n",
      "37\n",
      "41\n",
      "43\n",
      "47\n",
      "53\n",
      "59\n",
      "61\n",
      "67\n",
      "71\n"
     ]
    }
   ],
   "source": [
    "gen(1000)\n",
    "l2=gen(1000)\n",
    "for i in range(20):\n",
    "    print(next(l2))\n"
   ]
  },
  {
   "cell_type": "code",
   "execution_count": 10,
   "id": "4f217fdc-5495-4012-8e94-29fd6050ac1b",
   "metadata": {},
   "outputs": [
    {
     "name": "stdout",
     "output_type": "stream",
     "text": [
      "0\n",
      "1\n",
      "1\n",
      "2\n",
      "3\n",
      "5\n",
      "8\n",
      "13\n",
      "21\n",
      "34\n"
     ]
    }
   ],
   "source": [
    "# Q6\n",
    "num=10\n",
    "counter=0\n",
    "a,b=0,1\n",
    "while counter<num:\n",
    "    print(a)\n",
    "    c=a+b\n",
    "    a=b\n",
    "    b=c\n",
    "    counter=counter+1"
   ]
  },
  {
   "cell_type": "code",
   "execution_count": null,
   "id": "bfc43a24-c9a0-4a39-a961-b77a878490a3",
   "metadata": {},
   "outputs": [],
   "source": []
  },
  {
   "cell_type": "code",
   "execution_count": 62,
   "id": "b1c1c4f7-3c42-4c56-ad1b-e63888a3ef77",
   "metadata": {},
   "outputs": [
    {
     "data": {
      "text/plain": [
       "['p', 'w', 's', 'k', 'i', 'l', 'l', 's']"
      ]
     },
     "execution_count": 62,
     "metadata": {},
     "output_type": "execute_result"
    }
   ],
   "source": [
    "# Q7\n",
    "l1=\"pwskills\"\n",
    "[i for i in l1]"
   ]
  },
  {
   "cell_type": "code",
   "execution_count": 7,
   "id": "e752068c-4de1-4464-a32c-1d7ce630f478",
   "metadata": {},
   "outputs": [
    {
     "name": "stdin",
     "output_type": "stream",
     "text": [
      "ENTER your number  656\n"
     ]
    },
    {
     "name": "stdout",
     "output_type": "stream",
     "text": [
      "656\n",
      "number is palindrome\n"
     ]
    }
   ],
   "source": [
    "#Q8\n",
    "num=int(input(\"ENTER your number \"))\n",
    "temp=num\n",
    "reverse=0\n",
    "while(num>0):\n",
    "         digit=num%10\n",
    "         reverse=reverse*10+digit\n",
    "         num=num//10\n",
    "print(reverse)\n",
    "if temp==reverse:\n",
    "    print(\"number is palindrome\")\n",
    "else:\n",
    "    print(\"number is not palindrome\")"
   ]
  },
  {
   "cell_type": "code",
   "execution_count": null,
   "id": "5337097b-1a06-4607-ac8e-ca89cfb4bcf5",
   "metadata": {},
   "outputs": [],
   "source": []
  },
  {
   "cell_type": "code",
   "execution_count": 56,
   "id": "da5254c9-b563-46be-8754-205ab34e3dad",
   "metadata": {},
   "outputs": [],
   "source": [
    "#Q9\n",
    "l1=[i for i in range(1,100+1)] #list = 1 to 100\n",
    "l2=[i for i in l1 if i%2!=0]   #odd list"
   ]
  },
  {
   "cell_type": "code",
   "execution_count": null,
   "id": "e1f29e3e-03b5-437b-931a-acf37fa76f05",
   "metadata": {},
   "outputs": [],
   "source": [
    "l1"
   ]
  },
  {
   "cell_type": "code",
   "execution_count": 55,
   "id": "abb18f5c-6fc4-4742-ac82-576f89c9192a",
   "metadata": {},
   "outputs": [
    {
     "data": {
      "text/plain": [
       "[1,\n",
       " 3,\n",
       " 5,\n",
       " 7,\n",
       " 9,\n",
       " 11,\n",
       " 13,\n",
       " 15,\n",
       " 17,\n",
       " 19,\n",
       " 21,\n",
       " 23,\n",
       " 25,\n",
       " 27,\n",
       " 29,\n",
       " 31,\n",
       " 33,\n",
       " 35,\n",
       " 37,\n",
       " 39,\n",
       " 41,\n",
       " 43,\n",
       " 45,\n",
       " 47,\n",
       " 49,\n",
       " 51,\n",
       " 53,\n",
       " 55,\n",
       " 57,\n",
       " 59,\n",
       " 61,\n",
       " 63,\n",
       " 65,\n",
       " 67,\n",
       " 69,\n",
       " 71,\n",
       " 73,\n",
       " 75,\n",
       " 77,\n",
       " 79,\n",
       " 81,\n",
       " 83,\n",
       " 85,\n",
       " 87,\n",
       " 89,\n",
       " 91,\n",
       " 93,\n",
       " 95,\n",
       " 97,\n",
       " 99]"
      ]
     },
     "execution_count": 55,
     "metadata": {},
     "output_type": "execute_result"
    }
   ],
   "source": [
    "l2"
   ]
  },
  {
   "cell_type": "code",
   "execution_count": null,
   "id": "539507a6-2440-4689-adea-9c4c606a7ea7",
   "metadata": {},
   "outputs": [],
   "source": []
  }
 ],
 "metadata": {
  "kernelspec": {
   "display_name": "Python 3 (ipykernel)",
   "language": "python",
   "name": "python3"
  },
  "language_info": {
   "codemirror_mode": {
    "name": "ipython",
    "version": 3
   },
   "file_extension": ".py",
   "mimetype": "text/x-python",
   "name": "python",
   "nbconvert_exporter": "python",
   "pygments_lexer": "ipython3",
   "version": "3.10.8"
  }
 },
 "nbformat": 4,
 "nbformat_minor": 5
}
