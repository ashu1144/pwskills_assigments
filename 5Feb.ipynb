{
 "cells": [
  {
   "cell_type": "code",
   "execution_count": 2,
   "id": "e7b8e8ea-5221-4f72-80f6-2e05aadcaa38",
   "metadata": {},
   "outputs": [],
   "source": [
    "# class is a blue print for creating program\n",
    "# Objects are instances of a class created with specifically defined data\n",
    "# An object is called an instance of a class. For example, suppose Bike is a class then we can create objects like bike1 , bike2 , etc from the class. \n"
   ]
  },
  {
   "cell_type": "code",
   "execution_count": 3,
   "id": "3f0da334-f86f-4773-bf98-5972ba1506b1",
   "metadata": {},
   "outputs": [],
   "source": [
    "#Q2\n",
    "# Inheritance, Polymorphism, Encapsulation and Abstraction."
   ]
  },
  {
   "cell_type": "code",
   "execution_count": 24,
   "id": "e6f3d59c-fb9c-4004-bf40-bbe35ddcfc14",
   "metadata": {},
   "outputs": [
    {
     "data": {
      "text/plain": [
       "123456789"
      ]
     },
     "execution_count": 24,
     "metadata": {},
     "output_type": "execute_result"
    }
   ],
   "source": [
    "#Q3 This method is called when an object is created from a class and it allows the class to initialize the attributes of the class.\n",
    "class number:\n",
    "    def __init__(self,number):\n",
    "        self.number=number\n",
    "        \n",
    "    def return_number(self):\n",
    "        return self.number\n",
    "    \n",
    "ashu=number(123456789)\n",
    "ashu.return_number()\n"
   ]
  },
  {
   "cell_type": "code",
   "execution_count": null,
   "id": "d260593f-9c20-4fd4-b8b5-767c6d50e71a",
   "metadata": {},
   "outputs": [],
   "source": [
    "#Q4\n",
    "# self represents the instance of the class. By using the “self”  we can access the attributes and methods of the class in python. It binds the attributes with the given arguments."
   ]
  },
  {
   "cell_type": "code",
   "execution_count": 33,
   "id": "498b9c32-0713-498c-85d8-df8ad174356d",
   "metadata": {},
   "outputs": [],
   "source": [
    "#Q5\n",
    "# inheritance - The ability to inherit the properties of one class to another, or inherit the properties from a base class to an inherited class"
   ]
  },
  {
   "cell_type": "code",
   "execution_count": 34,
   "id": "b01a0e46-682d-408d-9230-1976fd838523",
   "metadata": {},
   "outputs": [
    {
     "data": {
      "text/plain": [
       "'This is test 2'"
      ]
     },
     "execution_count": 34,
     "metadata": {},
     "output_type": "execute_result"
    }
   ],
   "source": [
    "# single inheritance - a derived class is derived only from a single parent class and allows the class to derive behaviour and properties from a single base class\n",
    "class test1:\n",
    "    def test_1(self):\n",
    "        return \"this is test 1\"\n",
    "class test2(test1):\n",
    "    def test_2(self):\n",
    "        return \"This is test 2\"\n",
    "    \n",
    "ashu2=test2()\n",
    "ashu2.test_2()"
   ]
  },
  {
   "cell_type": "code",
   "execution_count": null,
   "id": "781876a3-88ee-472b-83c3-9286a99a17da",
   "metadata": {},
   "outputs": [],
   "source": []
  },
  {
   "cell_type": "code",
   "execution_count": 28,
   "id": "71e42bf8-0bd6-4f8f-bca8-e9fb85a14925",
   "metadata": {},
   "outputs": [
    {
     "data": {
      "text/plain": [
       "'this is math class '"
      ]
     },
     "execution_count": 28,
     "metadata": {},
     "output_type": "execute_result"
    }
   ],
   "source": [
    "#multilevel=inheritance \n",
    "# Multilevel- where a class inherits from another class, which in turn inherits from another class. This process continues until the topmost class is reached\n",
    "class maths:\n",
    "    def math_class(self):\n",
    "        return \"this is math class \"\n",
    "class physics(maths):\n",
    "    def physics_class(self):\n",
    "        return \"this is physics class \"\n",
    "class chemistry(physics):\n",
    "    pass\n",
    "\n",
    "ashu1=chemistry()\n",
    "ashu1.math_class()"
   ]
  },
  {
   "cell_type": "code",
   "execution_count": 9,
   "id": "1606e07c-47f2-42c7-b8e4-cf53c7520d81",
   "metadata": {},
   "outputs": [
    {
     "data": {
      "text/plain": [
       "'this is father'"
      ]
     },
     "execution_count": 9,
     "metadata": {},
     "output_type": "execute_result"
    }
   ],
   "source": [
    "# multple inhertance - When a class is derived from more than one base class it is called multiple Inheritance. The derived class inherits all the features of the base case.\n",
    "class father:\n",
    "    def test_father(self):\n",
    "        return \"this is father\"\n",
    "class mother:\n",
    "    def test_mother(self):\n",
    "        return \"this is mother \"\n",
    "class son(father,mother):\n",
    "    pass\n",
    "\n",
    "ashu=son()\n",
    "ashu.test_father()"
   ]
  },
  {
   "cell_type": "code",
   "execution_count": null,
   "id": "6df3c371-79bb-4f45-8e1e-159d44ca1605",
   "metadata": {},
   "outputs": [],
   "source": []
  }
 ],
 "metadata": {
  "kernelspec": {
   "display_name": "Python 3 (ipykernel)",
   "language": "python",
   "name": "python3"
  },
  "language_info": {
   "codemirror_mode": {
    "name": "ipython",
    "version": 3
   },
   "file_extension": ".py",
   "mimetype": "text/x-python",
   "name": "python",
   "nbconvert_exporter": "python",
   "pygments_lexer": "ipython3",
   "version": "3.10.8"
  }
 },
 "nbformat": 4,
 "nbformat_minor": 5
}
