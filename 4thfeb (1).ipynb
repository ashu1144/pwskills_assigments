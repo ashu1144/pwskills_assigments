{
 "cells": [
  {
   "cell_type": "code",
   "execution_count": 39,
   "id": "28fde396-4406-4175-a065-db2990d10963",
   "metadata": {},
   "outputs": [],
   "source": [
    "# Q1\n",
    "l1=[('Sachin Tendulkar', 34357), ('Ricky Ponting', 27483), ('Virat Kohli', 24936), ('Jack Kallis', 25534)]"
   ]
  },
  {
   "cell_type": "code",
   "execution_count": 40,
   "id": "59a74c06-b313-456d-9cee-ac6cb805ea55",
   "metadata": {},
   "outputs": [
    {
     "data": {
      "text/plain": [
       "[('Virat Kohli', 24936),\n",
       " ('Jack Kallis', 25534),\n",
       " ('Ricky Ponting', 27483),\n",
       " ('Sachin Tendulkar', 34357)]"
      ]
     },
     "execution_count": 40,
     "metadata": {},
     "output_type": "execute_result"
    }
   ],
   "source": [
    "sorted(l1,key=lambda x: x[1] )"
   ]
  },
  {
   "cell_type": "code",
   "execution_count": 100,
   "id": "ef1f9659-183e-4453-9681-5b307462b895",
   "metadata": {},
   "outputs": [],
   "source": [
    "# Q2\n",
    "l2= [1, 2, 3, 4, 5, 6, 7, 8, 9, 10]"
   ]
  },
  {
   "cell_type": "code",
   "execution_count": 103,
   "id": "162d03fd-da1c-466f-830e-42f06b205de8",
   "metadata": {},
   "outputs": [
    {
     "data": {
      "text/plain": [
       "[1, 4, 9, 16, 25, 36, 49, 64, 81, 100]"
      ]
     },
     "execution_count": 103,
     "metadata": {},
     "output_type": "execute_result"
    }
   ],
   "source": [
    "list(map(lambda x: x**2,l2))"
   ]
  },
  {
   "cell_type": "code",
   "execution_count": 104,
   "id": "ffbbf08b-a36a-4e9a-9cef-4b9fa366907c",
   "metadata": {},
   "outputs": [],
   "source": [
    "#Q3\n",
    "Given_String= [1, 2, 3, 4, 5, 6, 7, 8, 9, 10]"
   ]
  },
  {
   "cell_type": "code",
   "execution_count": 131,
   "id": "df039b81-7218-4430-baef-87f41cd81325",
   "metadata": {},
   "outputs": [
    {
     "data": {
      "text/plain": [
       "('1', '2', '3', '4', '5', '6', '7', '8', '9', '10')"
      ]
     },
     "execution_count": 131,
     "metadata": {},
     "output_type": "execute_result"
    }
   ],
   "source": [
    "tuple(map(lambda x:str(x),Given_String))"
   ]
  },
  {
   "cell_type": "code",
   "execution_count": 42,
   "id": "87e18469-b4fd-45b6-a487-6f26c26d8cd8",
   "metadata": {},
   "outputs": [
    {
     "data": {
      "text/plain": [
       "15511210043330985984000000"
      ]
     },
     "execution_count": 42,
     "metadata": {},
     "output_type": "execute_result"
    }
   ],
   "source": [
    "# Q4\n",
    "from functools import reduce\n",
    "l1=[ i for i in range(1,26)]\n",
    "reduce(lambda x,y : x*y , l1)"
   ]
  },
  {
   "cell_type": "code",
   "execution_count": 74,
   "id": "a8ae442f-33b0-419f-98cf-032f5f00a279",
   "metadata": {},
   "outputs": [
    {
     "data": {
      "text/plain": [
       "[6, 60, 90, 120]"
      ]
     },
     "execution_count": 74,
     "metadata": {},
     "output_type": "execute_result"
    }
   ],
   "source": [
    "#Q5\n",
    "l3=[2, 3, 6, 9, 27, 60, 90, 120, 55, 46]\n",
    "list(filter(lambda x: x%2==0 and x%3==0 ,l3))"
   ]
  },
  {
   "cell_type": "code",
   "execution_count": 100,
   "id": "800add3f-38ff-4bad-832a-8752df35efce",
   "metadata": {},
   "outputs": [
    {
     "name": "stdout",
     "output_type": "stream",
     "text": [
      "['php', 'aba', 'radar', 'level']\n"
     ]
    }
   ],
   "source": [
    "#Q6\n",
    "texts = [ 'php', 'aba', 'radar', 'level' ,'python']\n",
    "result = list(filter(lambda x: (x == \"\".join(reversed(x))), texts)) \n",
    "print(result)\n"
   ]
  },
  {
   "cell_type": "code",
   "execution_count": null,
   "id": "86af9dd9-4f85-4f72-a6c3-e1b22997c6b6",
   "metadata": {},
   "outputs": [],
   "source": []
  },
  {
   "cell_type": "code",
   "execution_count": null,
   "id": "f7640ea0-0361-4d03-af6d-cffa5df472a0",
   "metadata": {},
   "outputs": [],
   "source": []
  }
 ],
 "metadata": {
  "kernelspec": {
   "display_name": "Python 3 (ipykernel)",
   "language": "python",
   "name": "python3"
  },
  "language_info": {
   "codemirror_mode": {
    "name": "ipython",
    "version": 3
   },
   "file_extension": ".py",
   "mimetype": "text/x-python",
   "name": "python",
   "nbconvert_exporter": "python",
   "pygments_lexer": "ipython3",
   "version": "3.10.8"
  }
 },
 "nbformat": 4,
 "nbformat_minor": 5
}
