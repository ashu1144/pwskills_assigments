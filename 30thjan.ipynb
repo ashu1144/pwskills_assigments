{
 "cells": [
  {
   "cell_type": "code",
   "execution_count": 14,
   "id": "c238d476-4463-4185-871e-eaf6eea65d42",
   "metadata": {},
   "outputs": [
    {
     "name": "stdin",
     "output_type": "stream",
     "text": [
      "Enter your percentage 80\n"
     ]
    },
    {
     "name": "stdout",
     "output_type": "stream",
     "text": [
      "Grade : C\n"
     ]
    }
   ],
   "source": [
    "#Q1\n",
    "percentage=int(input(\"Enter your percentage\"))\n",
    "if percentage>90:\n",
    "    print(\"Grade : A\")\n",
    "elif percentage>80 and percentage<=90:\n",
    "    print(\"Grade : B\")\n",
    "elif percentage>=60 and percentage<=80:\n",
    "    print(\"Grade : C\")\n",
    "else:\n",
    "    print(\"Grade:D\")\n",
    "    "
   ]
  },
  {
   "cell_type": "code",
   "execution_count": 23,
   "id": "dd093019-da1f-4424-84b4-565fb3b18be7",
   "metadata": {},
   "outputs": [
    {
     "name": "stdin",
     "output_type": "stream",
     "text": [
      "Enter the coast of Bike 200000\n"
     ]
    },
    {
     "name": "stdout",
     "output_type": "stream",
     "text": [
      "TAX : 15%\n"
     ]
    }
   ],
   "source": [
    "#Q2\n",
    "bike_coast=int(input(\"Enter the coast of Bike\"))\n",
    "if bike_coast>100000:\n",
    "    print(\"TAX : 15%\")\n",
    "elif bike_coast>50000 and bike_coast<=100000:\n",
    "    print(\"TAX : 10%\")\n",
    "elif bike_coast<=50000:\n",
    "    print(\"TAX : 5%\")"
   ]
  },
  {
   "cell_type": "code",
   "execution_count": 32,
   "id": "0608f3d4-b302-41be-95c2-a6b01a63b04f",
   "metadata": {},
   "outputs": [
    {
     "name": "stdin",
     "output_type": "stream",
     "text": [
      "Enter name of the city Agra\n"
     ]
    },
    {
     "name": "stdout",
     "output_type": "stream",
     "text": [
      "Taj Mahal\n"
     ]
    }
   ],
   "source": [
    "#Q3\n",
    "city=input(\"Enter name of the city\")\n",
    "if city==\"Delhi\":\n",
    "    print(\"Red Fort\")\n",
    "elif city==\"Agra\":\n",
    "    print(\"Taj Mahal\")\n",
    "elif city==\"Jaipur\":\n",
    "    print(\"Jal Mahal\")\n",
    "else:\n",
    "    print(\"Enter a correct city\")\n",
    "\n",
    "\n"
   ]
  },
  {
   "cell_type": "code",
   "execution_count": 4,
   "id": "b67d76bb-bfc1-4f93-8af9-fb57bd8cd236",
   "metadata": {},
   "outputs": [
    {
     "name": "stdin",
     "output_type": "stream",
     "text": [
      "Enter a number:-  100\n"
     ]
    },
    {
     "name": "stdout",
     "output_type": "stream",
     "text": [
      "1\n",
      "2\n",
      "3\n"
     ]
    }
   ],
   "source": [
    "# Q4\n",
    "n = int(input(\"Enter a number:- \"))\n",
    "count = 0\n",
    "while n>=10:\n",
    "    n = n/3\n",
    "    count+=1\n",
    "    print(count)\n",
    "    "
   ]
  },
  {
   "cell_type": "code",
   "execution_count": 4,
   "id": "235eb717-fd20-4fb2-8166-4ca760420a88",
   "metadata": {},
   "outputs": [
    {
     "name": "stdin",
     "output_type": "stream",
     "text": [
      "enter your phone number  SDA\n"
     ]
    },
    {
     "name": "stdout",
     "output_type": "stream",
     "text": [
      "Try again\n"
     ]
    },
    {
     "name": "stdin",
     "output_type": "stream",
     "text": [
      "enter your phone number  5\n"
     ]
    },
    {
     "name": "stdout",
     "output_type": "stream",
     "text": [
      "YOUR NUMBER HAS BEEN REGISTERED \n"
     ]
    }
   ],
   "source": [
    "#Q5\n",
    "# A \"While\" Loop is used to repeat a specific block of code an unknown number of times, until a condition become false,it use when we dont know the ending point of the loop\n",
    "while True:#HERE WE DONT KNOW THE ENDING POINT. loop will run until the given conndtion become false \n",
    "    num=input(\"enter your phone number \")\n",
    "    if num.isnumeric():\n",
    "        print(\"YOUR NUMBER HAS BEEN REGISTERED \")\n",
    "        break\n",
    "    else:\n",
    "        print(\"Try again\")"
   ]
  },
  {
   "cell_type": "code",
   "execution_count": 10,
   "id": "613a4cdd-1e1c-46de-a7ee-061d701f5fad",
   "metadata": {},
   "outputs": [
    {
     "name": "stdout",
     "output_type": "stream",
     "text": [
      "*\n",
      "**\n",
      "***\n"
     ]
    }
   ],
   "source": [
    "#Q6\n",
    "j=0\n",
    "n=0\n",
    "star=str\n",
    "while n<3:\n",
    "    n = n+1\n",
    "    while(j<3):\n",
    "        j=j+1\n",
    "        star=n * \"*\"   \n",
    "        print(star)\n",
    "        break\n"
   ]
  },
  {
   "cell_type": "code",
   "execution_count": null,
   "id": "e1e10028-2a48-483d-a3ec-268eb0737a9a",
   "metadata": {},
   "outputs": [],
   "source": [
    "# Q7\n",
    "i=11\n",
    "while i>1:\n",
    "    i = i - 1\n",
    "    print(i)"
   ]
  },
  {
   "cell_type": "code",
   "execution_count": 11,
   "id": "1a15a5df-7fe3-428f-8ede-e023b1ba68fa",
   "metadata": {},
   "outputs": [
    {
     "name": "stdout",
     "output_type": "stream",
     "text": [
      "10\n",
      "9\n",
      "8\n",
      "7\n",
      "6\n",
      "5\n",
      "4\n",
      "3\n",
      "2\n",
      "1\n"
     ]
    }
   ],
   "source": [
    "# Q8\n",
    "i=11\n",
    "while i>1:\n",
    "    i = i - 1\n",
    "    print(i)"
   ]
  },
  {
   "cell_type": "code",
   "execution_count": null,
   "id": "66e112d8-ff88-4364-81fa-88233ff43dab",
   "metadata": {},
   "outputs": [],
   "source": []
  },
  {
   "cell_type": "code",
   "execution_count": null,
   "id": "8ef7ea16-85e4-4ec7-8a3b-1675ab88f4f5",
   "metadata": {},
   "outputs": [],
   "source": []
  },
  {
   "cell_type": "code",
   "execution_count": 1,
   "id": "31d39784-b0c7-48a7-8caa-680d637bbd22",
   "metadata": {},
   "outputs": [
    {
     "name": "stdout",
     "output_type": "stream",
     "text": [
      "2\n",
      "3\n",
      "4\n",
      "5\n",
      "6\n",
      "7\n",
      "8\n",
      "9\n",
      "10\n",
      "11\n",
      "12\n",
      "13\n",
      "14\n",
      "15\n",
      "16\n",
      "17\n",
      "18\n",
      "19\n",
      "20\n",
      "21\n",
      "22\n",
      "23\n",
      "24\n",
      "25\n",
      "26\n",
      "27\n",
      "28\n",
      "29\n",
      "30\n",
      "31\n",
      "32\n",
      "33\n",
      "34\n",
      "35\n",
      "36\n",
      "37\n",
      "38\n",
      "39\n",
      "40\n",
      "41\n",
      "42\n",
      "43\n",
      "44\n",
      "45\n",
      "46\n",
      "47\n",
      "48\n",
      "49\n",
      "50\n",
      "51\n",
      "52\n",
      "53\n",
      "54\n",
      "55\n",
      "56\n",
      "57\n",
      "58\n",
      "59\n",
      "60\n",
      "61\n",
      "62\n",
      "63\n",
      "64\n",
      "65\n",
      "66\n",
      "67\n",
      "68\n",
      "69\n",
      "70\n",
      "71\n",
      "72\n",
      "73\n",
      "74\n",
      "75\n",
      "76\n",
      "77\n",
      "78\n",
      "79\n",
      "80\n",
      "81\n",
      "82\n",
      "83\n",
      "84\n",
      "85\n",
      "86\n",
      "87\n",
      "88\n",
      "89\n",
      "90\n",
      "91\n",
      "92\n",
      "93\n",
      "94\n",
      "95\n",
      "96\n",
      "97\n",
      "98\n",
      "99\n",
      "100\n",
      "101\n"
     ]
    }
   ],
   "source": []
  },
  {
   "cell_type": "code",
   "execution_count": null,
   "id": "f713e0bd-2e30-4ae4-8b01-7f34f98a80a5",
   "metadata": {},
   "outputs": [],
   "source": []
  },
  {
   "cell_type": "code",
   "execution_count": null,
   "id": "d4c62a2d-a9b3-46c8-9b83-e4ae1d3c0042",
   "metadata": {},
   "outputs": [],
   "source": []
  }
 ],
 "metadata": {
  "kernelspec": {
   "display_name": "Python 3 (ipykernel)",
   "language": "python",
   "name": "python3"
  },
  "language_info": {
   "codemirror_mode": {
    "name": "ipython",
    "version": 3
   },
   "file_extension": ".py",
   "mimetype": "text/x-python",
   "name": "python",
   "nbconvert_exporter": "python",
   "pygments_lexer": "ipython3",
   "version": "3.10.8"
  }
 },
 "nbformat": 4,
 "nbformat_minor": 5
}
